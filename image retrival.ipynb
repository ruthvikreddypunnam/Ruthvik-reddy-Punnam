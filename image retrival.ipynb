{
 "cells": [
  {
   "cell_type": "code",
   "execution_count": 1,
   "metadata": {},
   "outputs": [],
   "source": [
    "import turicreate as tc"
   ]
  },
  {
   "cell_type": "code",
   "execution_count": 2,
   "metadata": {},
   "outputs": [],
   "source": [
    "train_data=tc.SFrame('image_train_data')\n",
    "test_data=tc.SFrame('image_test_data')"
   ]
  },
  {
   "cell_type": "code",
   "execution_count": 3,
   "metadata": {},
   "outputs": [
    {
     "data": {
      "text/html": [
       "<pre>Starting brute force nearest neighbors model training.</pre>"
      ],
      "text/plain": [
       "Starting brute force nearest neighbors model training."
      ]
     },
     "metadata": {},
     "output_type": "display_data"
    },
    {
     "data": {
      "text/html": [
       "<pre>Validating distance components.</pre>"
      ],
      "text/plain": [
       "Validating distance components."
      ]
     },
     "metadata": {},
     "output_type": "display_data"
    },
    {
     "data": {
      "text/html": [
       "<pre>Initializing model data.</pre>"
      ],
      "text/plain": [
       "Initializing model data."
      ]
     },
     "metadata": {},
     "output_type": "display_data"
    },
    {
     "data": {
      "text/html": [
       "<pre>Initializing distances.</pre>"
      ],
      "text/plain": [
       "Initializing distances."
      ]
     },
     "metadata": {},
     "output_type": "display_data"
    },
    {
     "data": {
      "text/html": [
       "<pre>Done.</pre>"
      ],
      "text/plain": [
       "Done."
      ]
     },
     "metadata": {},
     "output_type": "display_data"
    }
   ],
   "source": [
    "knn_model=tc.nearest_neighbors.create(train_data,features=['deep_features'],label='id')"
   ]
  },
  {
   "cell_type": "code",
   "execution_count": 4,
   "metadata": {},
   "outputs": [],
   "source": [
    "cat=train_data[18:19]"
   ]
  },
  {
   "cell_type": "code",
   "execution_count": 8,
   "metadata": {},
   "outputs": [
    {
     "data": {
      "text/html": [
       "<html lang=\"en\">                                                     <head>                                                               <style>                                                              .sframe {                                                            font-size: 12px;                                                   font-family: HelveticaNeue;                                        border: 1px solid silver;                                        }                                                                  .sframe thead th {                                                   background: #F7F7F7;                                               font-family: HelveticaNeue-Medium;                                 font-size: 14px;                                                   line-height: 16.8px;                                               padding-top: 16px;                                                 padding-bottom: 16px;                                              padding-left: 10px;                                                padding-right: 38px;                                               border-top: 1px solid #E9E9E9;                                     border-bottom: 1px solid #E9E9E9;                                  white-space: nowrap;                                               overflow: hidden;                                                  text-overflow:ellipsis;                                            text-align:center;                                                 font-weight:normal;                                              }                                                                  .sframe tbody th {                                                   background: #FFFFFF;                                               text-align:left;                                                   font-weight:normal;                                                border-right: 1px solid #E9E9E9;                                 }                                                                  .sframe td {                                                         background: #FFFFFF;                                               padding-left: 10px;                                                padding-right: 38px;                                               padding-top: 14px;                                                 padding-bottom: 14px;                                              border-bottom: 1px solid #E9E9E9;                                  max-height: 0px;                                                   transition: max-height 5s ease-out;                                vertical-align: middle;                                            font-family: HelveticaNeue;                                        font-size: 12px;                                                   line-height: 16.8px;                                               background: #FFFFFF;                                             }                                                                  .sframe tr {                                                         padding-left: 10px;                                                padding-right: 38px;                                               padding-top: 14px;                                                 padding-bottom: 14px;                                              border-bottom: 1px solid #E9E9E9;                                  max-height: 0px;                                                   transition: max-height 5s ease-out;                                vertical-align: middle;                                            font-family: HelveticaNeue;                                        font-size: 12px;                                                   line-height: 16.8px;                                               background: #FFFFFF;                                             }                                                                  .sframe tr:hover {                                                   background: silver;                                              },                                                               </style>                                                         </head>                                                            <body>                                                               <h1>  </h1>                                             <table border=\"1\" class=\"dataframe sframe\">\n",
       "  <thead>\n",
       "    <tr style=\"text-align: right;\">\n",
       "      <th></th>\n",
       "      <th>SArray</th>\n",
       "    </tr>\n",
       "  </thead>\n",
       "  <tbody>\n",
       "    <tr>\n",
       "      <th>0</th>\n",
       "      <td><img src=\"data:image/png;base64,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\"/></td>\n",
       "    </tr>\n",
       "  </tbody>\n",
       "</table>                          </body>                                                          </html>"
      ],
      "text/plain": [
       "<IPython.core.display.HTML object>"
      ]
     },
     "metadata": {},
     "output_type": "display_data"
    }
   ],
   "source": [
    "cat['image'].explore()"
   ]
  },
  {
   "cell_type": "code",
   "execution_count": 9,
   "metadata": {},
   "outputs": [
    {
     "data": {
      "text/html": [
       "<pre>Starting pairwise querying.</pre>"
      ],
      "text/plain": [
       "Starting pairwise querying."
      ]
     },
     "metadata": {},
     "output_type": "display_data"
    },
    {
     "data": {
      "text/html": [
       "<pre>+--------------+---------+-------------+--------------+</pre>"
      ],
      "text/plain": [
       "+--------------+---------+-------------+--------------+"
      ]
     },
     "metadata": {},
     "output_type": "display_data"
    },
    {
     "data": {
      "text/html": [
       "<pre>| Query points | # Pairs | % Complete. | Elapsed Time |</pre>"
      ],
      "text/plain": [
       "| Query points | # Pairs | % Complete. | Elapsed Time |"
      ]
     },
     "metadata": {},
     "output_type": "display_data"
    },
    {
     "data": {
      "text/html": [
       "<pre>+--------------+---------+-------------+--------------+</pre>"
      ],
      "text/plain": [
       "+--------------+---------+-------------+--------------+"
      ]
     },
     "metadata": {},
     "output_type": "display_data"
    },
    {
     "data": {
      "text/html": [
       "<pre>| 0            | 1       | 0.0498753   | 38.427ms     |</pre>"
      ],
      "text/plain": [
       "| 0            | 1       | 0.0498753   | 38.427ms     |"
      ]
     },
     "metadata": {},
     "output_type": "display_data"
    },
    {
     "data": {
      "text/html": [
       "<pre>| Done         |         | 100         | 242.664ms    |</pre>"
      ],
      "text/plain": [
       "| Done         |         | 100         | 242.664ms    |"
      ]
     },
     "metadata": {},
     "output_type": "display_data"
    },
    {
     "data": {
      "text/html": [
       "<pre>+--------------+---------+-------------+--------------+</pre>"
      ],
      "text/plain": [
       "+--------------+---------+-------------+--------------+"
      ]
     },
     "metadata": {},
     "output_type": "display_data"
    },
    {
     "data": {
      "text/html": [
       "<div style=\"max-height:1000px;max-width:1500px;overflow:auto;\"><table frame=\"box\" rules=\"cols\">\n",
       "    <tr>\n",
       "        <th style=\"padding-left: 1em; padding-right: 1em; text-align: center\">query_label</th>\n",
       "        <th style=\"padding-left: 1em; padding-right: 1em; text-align: center\">reference_label</th>\n",
       "        <th style=\"padding-left: 1em; padding-right: 1em; text-align: center\">distance</th>\n",
       "        <th style=\"padding-left: 1em; padding-right: 1em; text-align: center\">rank</th>\n",
       "    </tr>\n",
       "    <tr>\n",
       "        <td style=\"padding-left: 1em; padding-right: 1em; text-align: center; vertical-align: top\">0</td>\n",
       "        <td style=\"padding-left: 1em; padding-right: 1em; text-align: center; vertical-align: top\">384</td>\n",
       "        <td style=\"padding-left: 1em; padding-right: 1em; text-align: center; vertical-align: top\">0.0</td>\n",
       "        <td style=\"padding-left: 1em; padding-right: 1em; text-align: center; vertical-align: top\">1</td>\n",
       "    </tr>\n",
       "    <tr>\n",
       "        <td style=\"padding-left: 1em; padding-right: 1em; text-align: center; vertical-align: top\">0</td>\n",
       "        <td style=\"padding-left: 1em; padding-right: 1em; text-align: center; vertical-align: top\">6910</td>\n",
       "        <td style=\"padding-left: 1em; padding-right: 1em; text-align: center; vertical-align: top\">36.94031379506751</td>\n",
       "        <td style=\"padding-left: 1em; padding-right: 1em; text-align: center; vertical-align: top\">2</td>\n",
       "    </tr>\n",
       "    <tr>\n",
       "        <td style=\"padding-left: 1em; padding-right: 1em; text-align: center; vertical-align: top\">0</td>\n",
       "        <td style=\"padding-left: 1em; padding-right: 1em; text-align: center; vertical-align: top\">39777</td>\n",
       "        <td style=\"padding-left: 1em; padding-right: 1em; text-align: center; vertical-align: top\">38.46348889747021</td>\n",
       "        <td style=\"padding-left: 1em; padding-right: 1em; text-align: center; vertical-align: top\">3</td>\n",
       "    </tr>\n",
       "    <tr>\n",
       "        <td style=\"padding-left: 1em; padding-right: 1em; text-align: center; vertical-align: top\">0</td>\n",
       "        <td style=\"padding-left: 1em; padding-right: 1em; text-align: center; vertical-align: top\">36870</td>\n",
       "        <td style=\"padding-left: 1em; padding-right: 1em; text-align: center; vertical-align: top\">39.75596231189652</td>\n",
       "        <td style=\"padding-left: 1em; padding-right: 1em; text-align: center; vertical-align: top\">4</td>\n",
       "    </tr>\n",
       "    <tr>\n",
       "        <td style=\"padding-left: 1em; padding-right: 1em; text-align: center; vertical-align: top\">0</td>\n",
       "        <td style=\"padding-left: 1em; padding-right: 1em; text-align: center; vertical-align: top\">41734</td>\n",
       "        <td style=\"padding-left: 1em; padding-right: 1em; text-align: center; vertical-align: top\">39.786601414815024</td>\n",
       "        <td style=\"padding-left: 1em; padding-right: 1em; text-align: center; vertical-align: top\">5</td>\n",
       "    </tr>\n",
       "</table>\n",
       "[5 rows x 4 columns]<br/>\n",
       "</div>"
      ],
      "text/plain": [
       "Columns:\n",
       "\tquery_label\tint\n",
       "\treference_label\tint\n",
       "\tdistance\tfloat\n",
       "\trank\tint\n",
       "\n",
       "Rows: 5\n",
       "\n",
       "Data:\n",
       "+-------------+-----------------+--------------------+------+\n",
       "| query_label | reference_label |      distance      | rank |\n",
       "+-------------+-----------------+--------------------+------+\n",
       "|      0      |       384       |        0.0         |  1   |\n",
       "|      0      |       6910      | 36.94031379506751  |  2   |\n",
       "|      0      |      39777      | 38.46348889747021  |  3   |\n",
       "|      0      |      36870      | 39.75596231189652  |  4   |\n",
       "|      0      |      41734      | 39.786601414815024 |  5   |\n",
       "+-------------+-----------------+--------------------+------+\n",
       "[5 rows x 4 columns]"
      ]
     },
     "execution_count": 9,
     "metadata": {},
     "output_type": "execute_result"
    }
   ],
   "source": [
    "knn_model.query(cat)"
   ]
  },
  {
   "cell_type": "code",
   "execution_count": 12,
   "metadata": {},
   "outputs": [],
   "source": [
    "def get_images_ids(query_result):\n",
    "    return train_data.filter_by(query_result['reference_label'],'id')"
   ]
  },
  {
   "cell_type": "code",
   "execution_count": 17,
   "metadata": {},
   "outputs": [
    {
     "data": {
      "text/html": [
       "<pre>Starting pairwise querying.</pre>"
      ],
      "text/plain": [
       "Starting pairwise querying."
      ]
     },
     "metadata": {},
     "output_type": "display_data"
    },
    {
     "data": {
      "text/html": [
       "<pre>+--------------+---------+-------------+--------------+</pre>"
      ],
      "text/plain": [
       "+--------------+---------+-------------+--------------+"
      ]
     },
     "metadata": {},
     "output_type": "display_data"
    },
    {
     "data": {
      "text/html": [
       "<pre>| Query points | # Pairs | % Complete. | Elapsed Time |</pre>"
      ],
      "text/plain": [
       "| Query points | # Pairs | % Complete. | Elapsed Time |"
      ]
     },
     "metadata": {},
     "output_type": "display_data"
    },
    {
     "data": {
      "text/html": [
       "<pre>+--------------+---------+-------------+--------------+</pre>"
      ],
      "text/plain": [
       "+--------------+---------+-------------+--------------+"
      ]
     },
     "metadata": {},
     "output_type": "display_data"
    },
    {
     "data": {
      "text/html": [
       "<pre>| 0            | 1       | 0.0498753   | 13.222ms     |</pre>"
      ],
      "text/plain": [
       "| 0            | 1       | 0.0498753   | 13.222ms     |"
      ]
     },
     "metadata": {},
     "output_type": "display_data"
    },
    {
     "data": {
      "text/html": [
       "<pre>| Done         |         | 100         | 204.639ms    |</pre>"
      ],
      "text/plain": [
       "| Done         |         | 100         | 204.639ms    |"
      ]
     },
     "metadata": {},
     "output_type": "display_data"
    },
    {
     "data": {
      "text/html": [
       "<pre>+--------------+---------+-------------+--------------+</pre>"
      ],
      "text/plain": [
       "+--------------+---------+-------------+--------------+"
      ]
     },
     "metadata": {},
     "output_type": "display_data"
    },
    {
     "data": {
      "text/html": [
       "<html lang=\"en\">                                                     <head>                                                               <style>                                                              .sframe {                                                            font-size: 12px;                                                   font-family: HelveticaNeue;                                        border: 1px solid silver;                                        }                                                                  .sframe thead th {                                                   background: #F7F7F7;                                               font-family: HelveticaNeue-Medium;                                 font-size: 14px;                                                   line-height: 16.8px;                                               padding-top: 16px;                                                 padding-bottom: 16px;                                              padding-left: 10px;                                                padding-right: 38px;                                               border-top: 1px solid #E9E9E9;                                     border-bottom: 1px solid #E9E9E9;                                  white-space: nowrap;                                               overflow: hidden;                                                  text-overflow:ellipsis;                                            text-align:center;                                                 font-weight:normal;                                              }                                                                  .sframe tbody th {                                                   background: #FFFFFF;                                               text-align:left;                                                   font-weight:normal;                                                border-right: 1px solid #E9E9E9;                                 }                                                                  .sframe td {                                                         background: #FFFFFF;                                               padding-left: 10px;                                                padding-right: 38px;                                               padding-top: 14px;                                                 padding-bottom: 14px;                                              border-bottom: 1px solid #E9E9E9;                                  max-height: 0px;                                                   transition: max-height 5s ease-out;                                vertical-align: middle;                                            font-family: HelveticaNeue;                                        font-size: 12px;                                                   line-height: 16.8px;                                               background: #FFFFFF;                                             }                                                                  .sframe tr {                                                         padding-left: 10px;                                                padding-right: 38px;                                               padding-top: 14px;                                                 padding-bottom: 14px;                                              border-bottom: 1px solid #E9E9E9;                                  max-height: 0px;                                                   transition: max-height 5s ease-out;                                vertical-align: middle;                                            font-family: HelveticaNeue;                                        font-size: 12px;                                                   line-height: 16.8px;                                               background: #FFFFFF;                                             }                                                                  .sframe tr:hover {                                                   background: silver;                                              },                                                               </style>                                                         </head>                                                            <body>                                                               <h1>  </h1>                                             <table border=\"1\" class=\"dataframe sframe\">\n",
       "  <thead>\n",
       "    <tr style=\"text-align: right;\">\n",
       "      <th></th>\n",
       "      <th>SArray</th>\n",
       "    </tr>\n",
       "  </thead>\n",
       "  <tbody>\n",
       "    <tr>\n",
       "      <th>0</th>\n",
       "      <td><img src=\"data:image/png;base64,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\"/></td>\n",
       "    </tr>\n",
       "    <tr>\n",
       "      <th>1</th>\n",
       "      <td><img src=\"data:image/png;base64,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\"/></td>\n",
       "    </tr>\n",
       "    <tr>\n",
       "      <th>2</th>\n",
       "      <td><img src=\"data:image/png;base64,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\"/></td>\n",
       "    </tr>\n",
       "    <tr>\n",
       "      <th>3</th>\n",
       "      <td><img src=\"data:image/png;base64,iVBORw0KGgoAAAANSUhEUgAAACAAAAAgCAIAAAD8GO2jAAAIVUlEQVR4nAXB2XJkx3EA0MysrLpL39vdQAMgMeKYFidCYVuS3/2Z/gj7b+w32UFJYXEoBAZLo9e71ZKZPgf//T//Y7fb3d/f911PzmXTbOpEKi0MxSwrFtSoaREVMChSVETUkoJpJslgBV3IxkiubWsxVKy67X292pKv+Ycff7zZrkH1ej04BHQekTVeL6e/L8e/y3LKeZI4S1qklJRzSqmqKnJUvAPQ4XQsMbfdrVLz/vGRypyKGDWfvvz+y7/+2/bxC7frtRHmuDiUwGhlKMNp3H89Pv1p+vgVc/TOc+V9HWrvvWUZL1VYbfvbsNkuyzy/P2uOZdCCwZO+7N+Gy9k5fz5dIPT/1N8zBy8lMhmV5bo/Hl9+md/+Csue0qmB5EPF3Fpda3Dofdv2WLXTNFu1Cs3D2/5JsQtta4iH/SFhtb77jK4dzxcEh4omwExQ0nB++svp6//k47NMB8QleDKwZJwRHaqlHK9TWkZCReY5yyx0l/ntsMe2m0s6vH2s6+3ahaGIdFvx/c2nn7rvPqlDdqDDef9/f/qvsv+ls9HK5BuP2ABxUUPn1ttts1qP4/T+bblcTsM0D1n4cj0t5qpme7PTcQSfwmqz3fQ8DTjnyjU3v/kHblZqxljSdf+chv2qsjSnLKVRHxz7UJtoUfs4npb9YU5R85wIZtDTMi1T5M0//vT5SxXY+8397ofxevm2f82aZrHrPFbTsskq2VjitJzfWQazYYoDkptSlmEKtSKxEQO5XMr1cmUSUEEAds6BW2/vttsHi3Pfbdnjn08fT2/fyLNgOA5lvZSSTQV4vp4u+2eN1ylfpmUiDt6BmluyKSAxV1UdnGvZS8o5Zyjqwbm6Xa/6VVWbShquL6fX/cuTIyPvD6frOOmSFilFRfny/nU+PKVlmqOYEmdBdM7Vdb8RLWkZ43C0nNKypFKyQRQAx6p2vZxe356H06HEcRqOVsp3my1V4W67Lq7iFbNLCImvh7c8DwCowABFVYmYOBQF5wK5Jc4pxvk8DrGIIFGo61V7PV3/8vN/v718vZyOnolMAvPj4+PD7s7YR3ARa6dKYjxeTjlFkKxIhq6pm/vvP/W3D9d5OZ9PSxIFV5zHtsOcQcWcjfNQyuRQ8hRNooL3VbPq267r5yntT+9QNxY2XBcR4xInByoACtSsNvd3t9vdfdNtfLcJTTMP9Xj+gGXub2pVuQ7n8+VkJf34sPPe5VRWVee4TQWruhfwH8fTcRiwqAVuRJIBowk5ZyAMzrFHDsUgFgH2zapbtdW6X52Op+sweuJme79tuxTnEJgYR4tzNPT+fB6O5/dk1XEc3k6H5Xha3cKtSATjJCU5JkgtFcnTEvvOoJSEWqqq8n7Vtauuv00pixQRIYSU0rdvz68f70CcFYcxaagOl+H0tz9/nF5fPw6u7r/Ua5CCRVlE0DETg5aU4vmw1xQdOSIiwqqqiBz50G22N5t1TCnnHLx/fHys60oRi2I25Hr1/PL+8v4iKZZlIVeDKiECGCMgs4MMqopEKc5DHgnBzESEiKqq4qp9f3lmZlVVFSJ3t7v94+9+UrUpFiWeszkRJ9FpkixjRjRAAEBiZq66vkxxkUREGBAtA6hn9sAiio5Mcpyuo4j33rNH72sHOg05l5KKIEsxl+aWcFu3v/30+fk0OCJyRM4xOdIkpWjMCkD9es2eU4pd27RNfT4dU1xyKaGqOu+dw5IzoYCmNF5FVLJmoJiFrPRtPS+LANyBW7WtZwYARkJNSa2yUAeydX/r2k1MEUua55mUKhegbprNjsmu548lLZrix3lfQifFooiQG3OZUjJkDtiH4GvPrfdmaMhFzADbfptnmYfT4WOPp7MYmErJmYj69eb27h6I5umaDZLiOMVhehtX0VMoYIKUDbPqEkdRXXWtWJG0aE4gwlktzjEYxYxiOM8zwcChVmR1gZsOV9tFYPh4HcfBTLLiIjgOQ8q43WzJccrCob7ZbsZhOJ8PJcU6VBo8SEYTJvYKlBWTAvuqYmZCNUwpZ7WK3PV6/ZguTqOAGkBWmAvM6jDndL0wB0e+Qu6Quq5L81WsVH51nIfxer5XYfSrAo4RtMRsik2bQc+XS86lClVK8zSOJqkKZIhFbU5FwHHVNtseweYltkyAOA5j17aOw3idzuPrOflmN4gk5vXjIP8L87k2WbLbn6XoOE0DIguKoC0pqZUxi3Mu51xEzLSuG25uSsnzMAGOgTEtlkMLfjPrdS4xA2YrYsqbu52F8LY/VqQpYxQTi4RYSow5bzfsKl+iLDGWIjknAGzbJlRVSmlJs6iMc7KigSql2lX1qu8gwjKbIooB99tdf/f47fmvupy9c4CYSnaOVUGAsikZxpKWnIjICAGwmA3zGPMl5cU0gco4pTqssF4C5CSLoimgoRNwzGH38Plfnp5+ffl1qHIBK0mT856IyYcxziKaU1xybNsWgFQtSjqPFwQw0JxnNWPXdE2XzI7713E6ADvlGyM2ZAZqVpvHH376g2p5/fpzSYuCYDHAkguIUo45pohoKrOqzPNCRGbmnFW1Q+eCr9brO3V+fznG6ShaStbN/abrbxGZCyi4sLn7zW8Z0VdPv/xcloPkJCXFmHNMWjSmSA6998xsWmIWZvIOHBK7gOjjEpc0L3FSNIC27R933/++6R4QgEGd9x1gJ9bvHn6H1O73fzsf38oyLnmepwuYqgmYNb5iYGMTpwoIkUpMHMgxACn7qlvvuL9Z9bfb28fbh8/V5jaBMgLUdbfZfl8KAXVV+93Nd/88XI/zdJnH0zKfc5piGtWycw4JHTn2XIU6cB/8qm67ZrXp+ptVt6na3tcr9gEdk+OiFnP5fyvmNfuC8sSxAAAAAElFTkSuQmCC\"/></td>\n",
       "    </tr>\n",
       "    <tr>\n",
       "      <th>4</th>\n",
       "      <td><img src=\"data:image/png;base64,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\"/></td>\n",
       "    </tr>\n",
       "  </tbody>\n",
       "</table>                          </body>                                                          </html>"
      ],
      "text/plain": [
       "<IPython.core.display.HTML object>"
      ]
     },
     "metadata": {},
     "output_type": "display_data"
    }
   ],
   "source": [
    "get_images_ids(knn_model.query(cat))['image'].explore()"
   ]
  },
  {
   "cell_type": "code",
   "execution_count": 28,
   "metadata": {},
   "outputs": [],
   "source": [
    "show_neighbors =lambda i:get_images_ids(knn_model.query(train_data[i:i+1]))['image'].explore()"
   ]
  },
  {
   "cell_type": "code",
   "execution_count": 29,
   "metadata": {},
   "outputs": [
    {
     "data": {
      "text/html": [
       "<pre>Starting pairwise querying.</pre>"
      ],
      "text/plain": [
       "Starting pairwise querying."
      ]
     },
     "metadata": {},
     "output_type": "display_data"
    },
    {
     "data": {
      "text/html": [
       "<pre>+--------------+---------+-------------+--------------+</pre>"
      ],
      "text/plain": [
       "+--------------+---------+-------------+--------------+"
      ]
     },
     "metadata": {},
     "output_type": "display_data"
    },
    {
     "data": {
      "text/html": [
       "<pre>| Query points | # Pairs | % Complete. | Elapsed Time |</pre>"
      ],
      "text/plain": [
       "| Query points | # Pairs | % Complete. | Elapsed Time |"
      ]
     },
     "metadata": {},
     "output_type": "display_data"
    },
    {
     "data": {
      "text/html": [
       "<pre>+--------------+---------+-------------+--------------+</pre>"
      ],
      "text/plain": [
       "+--------------+---------+-------------+--------------+"
      ]
     },
     "metadata": {},
     "output_type": "display_data"
    },
    {
     "data": {
      "text/html": [
       "<pre>| 0            | 1       | 0.0498753   | 14.365ms     |</pre>"
      ],
      "text/plain": [
       "| 0            | 1       | 0.0498753   | 14.365ms     |"
      ]
     },
     "metadata": {},
     "output_type": "display_data"
    },
    {
     "data": {
      "text/html": [
       "<pre>| Done         |         | 100         | 190.524ms    |</pre>"
      ],
      "text/plain": [
       "| Done         |         | 100         | 190.524ms    |"
      ]
     },
     "metadata": {},
     "output_type": "display_data"
    },
    {
     "data": {
      "text/html": [
       "<pre>+--------------+---------+-------------+--------------+</pre>"
      ],
      "text/plain": [
       "+--------------+---------+-------------+--------------+"
      ]
     },
     "metadata": {},
     "output_type": "display_data"
    },
    {
     "data": {
      "text/html": [
       "<html lang=\"en\">                                                     <head>                                                               <style>                                                              .sframe {                                                            font-size: 12px;                                                   font-family: HelveticaNeue;                                        border: 1px solid silver;                                        }                                                                  .sframe thead th {                                                   background: #F7F7F7;                                               font-family: HelveticaNeue-Medium;                                 font-size: 14px;                                                   line-height: 16.8px;                                               padding-top: 16px;                                                 padding-bottom: 16px;                                              padding-left: 10px;                                                padding-right: 38px;                                               border-top: 1px solid #E9E9E9;                                     border-bottom: 1px solid #E9E9E9;                                  white-space: nowrap;                                               overflow: hidden;                                                  text-overflow:ellipsis;                                            text-align:center;                                                 font-weight:normal;                                              }                                                                  .sframe tbody th {                                                   background: #FFFFFF;                                               text-align:left;                                                   font-weight:normal;                                                border-right: 1px solid #E9E9E9;                                 }                                                                  .sframe td {                                                         background: #FFFFFF;                                               padding-left: 10px;                                                padding-right: 38px;                                               padding-top: 14px;                                                 padding-bottom: 14px;                                              border-bottom: 1px solid #E9E9E9;                                  max-height: 0px;                                                   transition: max-height 5s ease-out;                                vertical-align: middle;                                            font-family: HelveticaNeue;                                        font-size: 12px;                                                   line-height: 16.8px;                                               background: #FFFFFF;                                             }                                                                  .sframe tr {                                                         padding-left: 10px;                                                padding-right: 38px;                                               padding-top: 14px;                                                 padding-bottom: 14px;                                              border-bottom: 1px solid #E9E9E9;                                  max-height: 0px;                                                   transition: max-height 5s ease-out;                                vertical-align: middle;                                            font-family: HelveticaNeue;                                        font-size: 12px;                                                   line-height: 16.8px;                                               background: #FFFFFF;                                             }                                                                  .sframe tr:hover {                                                   background: silver;                                              },                                                               </style>                                                         </head>                                                            <body>                                                               <h1>  </h1>                                             <table border=\"1\" class=\"dataframe sframe\">\n",
       "  <thead>\n",
       "    <tr style=\"text-align: right;\">\n",
       "      <th></th>\n",
       "      <th>SArray</th>\n",
       "    </tr>\n",
       "  </thead>\n",
       "  <tbody>\n",
       "    <tr>\n",
       "      <th>0</th>\n",
       "      <td><img src=\"data:image/png;base64,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\"/></td>\n",
       "    </tr>\n",
       "    <tr>\n",
       "      <th>1</th>\n",
       "      <td><img src=\"data:image/png;base64,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\"/></td>\n",
       "    </tr>\n",
       "    <tr>\n",
       "      <th>2</th>\n",
       "      <td><img src=\"data:image/png;base64,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\"/></td>\n",
       "    </tr>\n",
       "    <tr>\n",
       "      <th>3</th>\n",
       "      <td><img src=\"data:image/png;base64,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\"/></td>\n",
       "    </tr>\n",
       "    <tr>\n",
       "      <th>4</th>\n",
       "      <td><img src=\"data:image/png;base64,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\"/></td>\n",
       "    </tr>\n",
       "  </tbody>\n",
       "</table>                          </body>                                                          </html>"
      ],
      "text/plain": [
       "<IPython.core.display.HTML object>"
      ]
     },
     "metadata": {},
     "output_type": "display_data"
    }
   ],
   "source": [
    "show_neighbors(1)"
   ]
  },
  {
   "cell_type": "code",
   "execution_count": 31,
   "metadata": {},
   "outputs": [],
   "source": [
    "sketch = tc.Sketch(train_data['label'])"
   ]
  },
  {
   "cell_type": "code",
   "execution_count": 46,
   "metadata": {},
   "outputs": [
    {
     "data": {
      "text/plain": [
       "\n",
       "+------------------+-------+----------+\n",
       "|       item       | value | is exact |\n",
       "+------------------+-------+----------+\n",
       "|      Length      |  2005 |   Yes    |\n",
       "| # Missing Values |   0   |   Yes    |\n",
       "| # unique values  |   4   |    No    |\n",
       "+------------------+-------+----------+\n",
       "\n",
       "Most frequent items:\n",
       "+------------+-------+\n",
       "|   value    | count |\n",
       "+------------+-------+\n",
       "|    cat     |  509  |\n",
       "|    dog     |  509  |\n",
       "| automobile |  509  |\n",
       "|    bird    |  478  |\n",
       "+------------+-------+\n"
      ]
     },
     "execution_count": 46,
     "metadata": {},
     "output_type": "execute_result"
    }
   ],
   "source": [
    "sketch"
   ]
  },
  {
   "cell_type": "code",
   "execution_count": 59,
   "metadata": {},
   "outputs": [],
   "source": [
    "dog=train_data.filter_by('dog','label')\n",
    "cat=train_data.filter_by('cat','label')\n",
    "bird=train_data.filter_by('bird','label')\n",
    "automobile=train_data.filter_by('automobile','label')"
   ]
  },
  {
   "cell_type": "code",
   "execution_count": 81,
   "metadata": {},
   "outputs": [],
   "source": [
    "dog_test=test_data.filter_by('dog','label')\n",
    "cat_test=test_data.filter_by('cat','label')\n",
    "bird_test=test_data.filter_by('bird','label')\n",
    "automobile_test=test_data.filter_by('automobile','label')"
   ]
  },
  {
   "cell_type": "code",
   "execution_count": 62,
   "metadata": {},
   "outputs": [
    {
     "data": {
      "text/html": [
       "<pre>Starting brute force nearest neighbors model training.</pre>"
      ],
      "text/plain": [
       "Starting brute force nearest neighbors model training."
      ]
     },
     "metadata": {},
     "output_type": "display_data"
    },
    {
     "data": {
      "text/html": [
       "<pre>Validating distance components.</pre>"
      ],
      "text/plain": [
       "Validating distance components."
      ]
     },
     "metadata": {},
     "output_type": "display_data"
    },
    {
     "data": {
      "text/html": [
       "<pre>Initializing model data.</pre>"
      ],
      "text/plain": [
       "Initializing model data."
      ]
     },
     "metadata": {},
     "output_type": "display_data"
    },
    {
     "data": {
      "text/html": [
       "<pre>Initializing distances.</pre>"
      ],
      "text/plain": [
       "Initializing distances."
      ]
     },
     "metadata": {},
     "output_type": "display_data"
    },
    {
     "data": {
      "text/html": [
       "<pre>Done.</pre>"
      ],
      "text/plain": [
       "Done."
      ]
     },
     "metadata": {},
     "output_type": "display_data"
    }
   ],
   "source": [
    "cat_model=tc.nearest_neighbors.create(cat,features=['deep_features'],label='id')"
   ]
  },
  {
   "cell_type": "code",
   "execution_count": 63,
   "metadata": {},
   "outputs": [
    {
     "data": {
      "text/html": [
       "<pre>Starting brute force nearest neighbors model training.</pre>"
      ],
      "text/plain": [
       "Starting brute force nearest neighbors model training."
      ]
     },
     "metadata": {},
     "output_type": "display_data"
    },
    {
     "data": {
      "text/html": [
       "<pre>Validating distance components.</pre>"
      ],
      "text/plain": [
       "Validating distance components."
      ]
     },
     "metadata": {},
     "output_type": "display_data"
    },
    {
     "data": {
      "text/html": [
       "<pre>Initializing model data.</pre>"
      ],
      "text/plain": [
       "Initializing model data."
      ]
     },
     "metadata": {},
     "output_type": "display_data"
    },
    {
     "data": {
      "text/html": [
       "<pre>Initializing distances.</pre>"
      ],
      "text/plain": [
       "Initializing distances."
      ]
     },
     "metadata": {},
     "output_type": "display_data"
    },
    {
     "data": {
      "text/html": [
       "<pre>Done.</pre>"
      ],
      "text/plain": [
       "Done."
      ]
     },
     "metadata": {},
     "output_type": "display_data"
    }
   ],
   "source": [
    "dog_model=tc.nearest_neighbors.create(dog,features=['deep_features'],label='id')"
   ]
  },
  {
   "cell_type": "code",
   "execution_count": 64,
   "metadata": {},
   "outputs": [
    {
     "data": {
      "text/html": [
       "<pre>Starting brute force nearest neighbors model training.</pre>"
      ],
      "text/plain": [
       "Starting brute force nearest neighbors model training."
      ]
     },
     "metadata": {},
     "output_type": "display_data"
    },
    {
     "data": {
      "text/html": [
       "<pre>Validating distance components.</pre>"
      ],
      "text/plain": [
       "Validating distance components."
      ]
     },
     "metadata": {},
     "output_type": "display_data"
    },
    {
     "data": {
      "text/html": [
       "<pre>Initializing model data.</pre>"
      ],
      "text/plain": [
       "Initializing model data."
      ]
     },
     "metadata": {},
     "output_type": "display_data"
    },
    {
     "data": {
      "text/html": [
       "<pre>Initializing distances.</pre>"
      ],
      "text/plain": [
       "Initializing distances."
      ]
     },
     "metadata": {},
     "output_type": "display_data"
    },
    {
     "data": {
      "text/html": [
       "<pre>Done.</pre>"
      ],
      "text/plain": [
       "Done."
      ]
     },
     "metadata": {},
     "output_type": "display_data"
    }
   ],
   "source": [
    "bird_model=tc.nearest_neighbors.create(bird,features=['deep_features'],label='id')"
   ]
  },
  {
   "cell_type": "code",
   "execution_count": 65,
   "metadata": {},
   "outputs": [
    {
     "data": {
      "text/html": [
       "<pre>Starting brute force nearest neighbors model training.</pre>"
      ],
      "text/plain": [
       "Starting brute force nearest neighbors model training."
      ]
     },
     "metadata": {},
     "output_type": "display_data"
    },
    {
     "data": {
      "text/html": [
       "<pre>Validating distance components.</pre>"
      ],
      "text/plain": [
       "Validating distance components."
      ]
     },
     "metadata": {},
     "output_type": "display_data"
    },
    {
     "data": {
      "text/html": [
       "<pre>Initializing model data.</pre>"
      ],
      "text/plain": [
       "Initializing model data."
      ]
     },
     "metadata": {},
     "output_type": "display_data"
    },
    {
     "data": {
      "text/html": [
       "<pre>Initializing distances.</pre>"
      ],
      "text/plain": [
       "Initializing distances."
      ]
     },
     "metadata": {},
     "output_type": "display_data"
    },
    {
     "data": {
      "text/html": [
       "<pre>Done.</pre>"
      ],
      "text/plain": [
       "Done."
      ]
     },
     "metadata": {},
     "output_type": "display_data"
    }
   ],
   "source": [
    "automobile_model=tc.nearest_neighbors.create(automobile,features=['deep_features'],label='id')"
   ]
  },
  {
   "cell_type": "code",
   "execution_count": 103,
   "metadata": {},
   "outputs": [
    {
     "data": {
      "text/html": [
       "<pre>Starting pairwise querying.</pre>"
      ],
      "text/plain": [
       "Starting pairwise querying."
      ]
     },
     "metadata": {},
     "output_type": "display_data"
    },
    {
     "data": {
      "text/html": [
       "<pre>+--------------+---------+-------------+--------------+</pre>"
      ],
      "text/plain": [
       "+--------------+---------+-------------+--------------+"
      ]
     },
     "metadata": {},
     "output_type": "display_data"
    },
    {
     "data": {
      "text/html": [
       "<pre>| Query points | # Pairs | % Complete. | Elapsed Time |</pre>"
      ],
      "text/plain": [
       "| Query points | # Pairs | % Complete. | Elapsed Time |"
      ]
     },
     "metadata": {},
     "output_type": "display_data"
    },
    {
     "data": {
      "text/html": [
       "<pre>+--------------+---------+-------------+--------------+</pre>"
      ],
      "text/plain": [
       "+--------------+---------+-------------+--------------+"
      ]
     },
     "metadata": {},
     "output_type": "display_data"
    },
    {
     "data": {
      "text/html": [
       "<pre>| 0            | 1       | 0.196464    | 12.439ms     |</pre>"
      ],
      "text/plain": [
       "| 0            | 1       | 0.196464    | 12.439ms     |"
      ]
     },
     "metadata": {},
     "output_type": "display_data"
    },
    {
     "data": {
      "text/html": [
       "<pre>| Done         |         | 100         | 69.659ms     |</pre>"
      ],
      "text/plain": [
       "| Done         |         | 100         | 69.659ms     |"
      ]
     },
     "metadata": {},
     "output_type": "display_data"
    },
    {
     "data": {
      "text/html": [
       "<pre>+--------------+---------+-------------+--------------+</pre>"
      ],
      "text/plain": [
       "+--------------+---------+-------------+--------------+"
      ]
     },
     "metadata": {},
     "output_type": "display_data"
    },
    {
     "data": {
      "text/html": [
       "<html lang=\"en\">                                                     <head>                                                               <style>                                                              .sframe {                                                            font-size: 12px;                                                   font-family: HelveticaNeue;                                        border: 1px solid silver;                                        }                                                                  .sframe thead th {                                                   background: #F7F7F7;                                               font-family: HelveticaNeue-Medium;                                 font-size: 14px;                                                   line-height: 16.8px;                                               padding-top: 16px;                                                 padding-bottom: 16px;                                              padding-left: 10px;                                                padding-right: 38px;                                               border-top: 1px solid #E9E9E9;                                     border-bottom: 1px solid #E9E9E9;                                  white-space: nowrap;                                               overflow: hidden;                                                  text-overflow:ellipsis;                                            text-align:center;                                                 font-weight:normal;                                              }                                                                  .sframe tbody th {                                                   background: #FFFFFF;                                               text-align:left;                                                   font-weight:normal;                                                border-right: 1px solid #E9E9E9;                                 }                                                                  .sframe td {                                                         background: #FFFFFF;                                               padding-left: 10px;                                                padding-right: 38px;                                               padding-top: 14px;                                                 padding-bottom: 14px;                                              border-bottom: 1px solid #E9E9E9;                                  max-height: 0px;                                                   transition: max-height 5s ease-out;                                vertical-align: middle;                                            font-family: HelveticaNeue;                                        font-size: 12px;                                                   line-height: 16.8px;                                               background: #FFFFFF;                                             }                                                                  .sframe tr {                                                         padding-left: 10px;                                                padding-right: 38px;                                               padding-top: 14px;                                                 padding-bottom: 14px;                                              border-bottom: 1px solid #E9E9E9;                                  max-height: 0px;                                                   transition: max-height 5s ease-out;                                vertical-align: middle;                                            font-family: HelveticaNeue;                                        font-size: 12px;                                                   line-height: 16.8px;                                               background: #FFFFFF;                                             }                                                                  .sframe tr:hover {                                                   background: silver;                                              },                                                               </style>                                                         </head>                                                            <body>                                                               <h1>  </h1>                                             <table border=\"1\" class=\"dataframe sframe\">\n",
       "  <thead>\n",
       "    <tr style=\"text-align: right;\">\n",
       "      <th></th>\n",
       "      <th>SArray</th>\n",
       "    </tr>\n",
       "  </thead>\n",
       "  <tbody>\n",
       "    <tr>\n",
       "      <th>0</th>\n",
       "      <td><img src=\"data:image/png;base64,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\"/></td>\n",
       "    </tr>\n",
       "    <tr>\n",
       "      <th>1</th>\n",
       "      <td><img src=\"data:image/png;base64,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\"/></td>\n",
       "    </tr>\n",
       "    <tr>\n",
       "      <th>2</th>\n",
       "      <td><img src=\"data:image/png;base64,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\"/></td>\n",
       "    </tr>\n",
       "    <tr>\n",
       "      <th>3</th>\n",
       "      <td><img src=\"data:image/png;base64,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\"/></td>\n",
       "    </tr>\n",
       "    <tr>\n",
       "      <th>4</th>\n",
       "      <td><img src=\"data:image/png;base64,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\"/></td>\n",
       "    </tr>\n",
       "  </tbody>\n",
       "</table>                          </body>                                                          </html>"
      ],
      "text/plain": [
       "<IPython.core.display.HTML object>"
      ]
     },
     "metadata": {},
     "output_type": "display_data"
    }
   ],
   "source": [
    "get_images_ids(dog_model.query(test_data[0:1]))['image'].explore()"
   ]
  },
  {
   "cell_type": "code",
   "execution_count": 67,
   "metadata": {},
   "outputs": [
    {
     "data": {
      "text/html": [
       "<pre>Starting pairwise querying.</pre>"
      ],
      "text/plain": [
       "Starting pairwise querying."
      ]
     },
     "metadata": {},
     "output_type": "display_data"
    },
    {
     "data": {
      "text/html": [
       "<pre>+--------------+---------+-------------+--------------+</pre>"
      ],
      "text/plain": [
       "+--------------+---------+-------------+--------------+"
      ]
     },
     "metadata": {},
     "output_type": "display_data"
    },
    {
     "data": {
      "text/html": [
       "<pre>| Query points | # Pairs | % Complete. | Elapsed Time |</pre>"
      ],
      "text/plain": [
       "| Query points | # Pairs | % Complete. | Elapsed Time |"
      ]
     },
     "metadata": {},
     "output_type": "display_data"
    },
    {
     "data": {
      "text/html": [
       "<pre>+--------------+---------+-------------+--------------+</pre>"
      ],
      "text/plain": [
       "+--------------+---------+-------------+--------------+"
      ]
     },
     "metadata": {},
     "output_type": "display_data"
    },
    {
     "data": {
      "text/html": [
       "<pre>| 0            | 1       | 0.196464    | 15.23ms      |</pre>"
      ],
      "text/plain": [
       "| 0            | 1       | 0.196464    | 15.23ms      |"
      ]
     },
     "metadata": {},
     "output_type": "display_data"
    },
    {
     "data": {
      "text/html": [
       "<pre>| Done         |         | 100         | 67.132ms     |</pre>"
      ],
      "text/plain": [
       "| Done         |         | 100         | 67.132ms     |"
      ]
     },
     "metadata": {},
     "output_type": "display_data"
    },
    {
     "data": {
      "text/html": [
       "<pre>+--------------+---------+-------------+--------------+</pre>"
      ],
      "text/plain": [
       "+--------------+---------+-------------+--------------+"
      ]
     },
     "metadata": {},
     "output_type": "display_data"
    },
    {
     "data": {
      "text/html": [
       "<div style=\"max-height:1000px;max-width:1500px;overflow:auto;\"><table frame=\"box\" rules=\"cols\">\n",
       "    <tr>\n",
       "        <th style=\"padding-left: 1em; padding-right: 1em; text-align: center\">query_label</th>\n",
       "        <th style=\"padding-left: 1em; padding-right: 1em; text-align: center\">reference_label</th>\n",
       "        <th style=\"padding-left: 1em; padding-right: 1em; text-align: center\">distance</th>\n",
       "        <th style=\"padding-left: 1em; padding-right: 1em; text-align: center\">rank</th>\n",
       "    </tr>\n",
       "    <tr>\n",
       "        <td style=\"padding-left: 1em; padding-right: 1em; text-align: center; vertical-align: top\">0</td>\n",
       "        <td style=\"padding-left: 1em; padding-right: 1em; text-align: center; vertical-align: top\">41989</td>\n",
       "        <td style=\"padding-left: 1em; padding-right: 1em; text-align: center; vertical-align: top\">40.46011258793056</td>\n",
       "        <td style=\"padding-left: 1em; padding-right: 1em; text-align: center; vertical-align: top\">1</td>\n",
       "    </tr>\n",
       "    <tr>\n",
       "        <td style=\"padding-left: 1em; padding-right: 1em; text-align: center; vertical-align: top\">0</td>\n",
       "        <td style=\"padding-left: 1em; padding-right: 1em; text-align: center; vertical-align: top\">40249</td>\n",
       "        <td style=\"padding-left: 1em; padding-right: 1em; text-align: center; vertical-align: top\">40.94084807266222</td>\n",
       "        <td style=\"padding-left: 1em; padding-right: 1em; text-align: center; vertical-align: top\">2</td>\n",
       "    </tr>\n",
       "    <tr>\n",
       "        <td style=\"padding-left: 1em; padding-right: 1em; text-align: center; vertical-align: top\">0</td>\n",
       "        <td style=\"padding-left: 1em; padding-right: 1em; text-align: center; vertical-align: top\">42744</td>\n",
       "        <td style=\"padding-left: 1em; padding-right: 1em; text-align: center; vertical-align: top\">42.79764201650802</td>\n",
       "        <td style=\"padding-left: 1em; padding-right: 1em; text-align: center; vertical-align: top\">3</td>\n",
       "    </tr>\n",
       "    <tr>\n",
       "        <td style=\"padding-left: 1em; padding-right: 1em; text-align: center; vertical-align: top\">0</td>\n",
       "        <td style=\"padding-left: 1em; padding-right: 1em; text-align: center; vertical-align: top\">15595</td>\n",
       "        <td style=\"padding-left: 1em; padding-right: 1em; text-align: center; vertical-align: top\">42.974197395795</td>\n",
       "        <td style=\"padding-left: 1em; padding-right: 1em; text-align: center; vertical-align: top\">4</td>\n",
       "    </tr>\n",
       "    <tr>\n",
       "        <td style=\"padding-left: 1em; padding-right: 1em; text-align: center; vertical-align: top\">0</td>\n",
       "        <td style=\"padding-left: 1em; padding-right: 1em; text-align: center; vertical-align: top\">2738</td>\n",
       "        <td style=\"padding-left: 1em; padding-right: 1em; text-align: center; vertical-align: top\">43.137943167196966</td>\n",
       "        <td style=\"padding-left: 1em; padding-right: 1em; text-align: center; vertical-align: top\">5</td>\n",
       "    </tr>\n",
       "</table>\n",
       "[5 rows x 4 columns]<br/>\n",
       "</div>"
      ],
      "text/plain": [
       "Columns:\n",
       "\tquery_label\tint\n",
       "\treference_label\tint\n",
       "\tdistance\tfloat\n",
       "\trank\tint\n",
       "\n",
       "Rows: 5\n",
       "\n",
       "Data:\n",
       "+-------------+-----------------+--------------------+------+\n",
       "| query_label | reference_label |      distance      | rank |\n",
       "+-------------+-----------------+--------------------+------+\n",
       "|      0      |      41989      | 40.46011258793056  |  1   |\n",
       "|      0      |      40249      | 40.94084807266222  |  2   |\n",
       "|      0      |      42744      | 42.79764201650802  |  3   |\n",
       "|      0      |      15595      |  42.974197395795   |  4   |\n",
       "|      0      |       2738      | 43.137943167196966 |  5   |\n",
       "+-------------+-----------------+--------------------+------+\n",
       "[5 rows x 4 columns]"
      ]
     },
     "execution_count": 67,
     "metadata": {},
     "output_type": "execute_result"
    }
   ],
   "source": [
    "cat_model.query(dog[0:1])"
   ]
  },
  {
   "cell_type": "code",
   "execution_count": 68,
   "metadata": {},
   "outputs": [
    {
     "data": {
      "text/html": [
       "<pre>Starting pairwise querying.</pre>"
      ],
      "text/plain": [
       "Starting pairwise querying."
      ]
     },
     "metadata": {},
     "output_type": "display_data"
    },
    {
     "data": {
      "text/html": [
       "<pre>+--------------+---------+-------------+--------------+</pre>"
      ],
      "text/plain": [
       "+--------------+---------+-------------+--------------+"
      ]
     },
     "metadata": {},
     "output_type": "display_data"
    },
    {
     "data": {
      "text/html": [
       "<pre>| Query points | # Pairs | % Complete. | Elapsed Time |</pre>"
      ],
      "text/plain": [
       "| Query points | # Pairs | % Complete. | Elapsed Time |"
      ]
     },
     "metadata": {},
     "output_type": "display_data"
    },
    {
     "data": {
      "text/html": [
       "<pre>+--------------+---------+-------------+--------------+</pre>"
      ],
      "text/plain": [
       "+--------------+---------+-------------+--------------+"
      ]
     },
     "metadata": {},
     "output_type": "display_data"
    },
    {
     "data": {
      "text/html": [
       "<pre>| 0            | 1       | 0.196464    | 14.547ms     |</pre>"
      ],
      "text/plain": [
       "| 0            | 1       | 0.196464    | 14.547ms     |"
      ]
     },
     "metadata": {},
     "output_type": "display_data"
    },
    {
     "data": {
      "text/html": [
       "<pre>| Done         |         | 100         | 75.062ms     |</pre>"
      ],
      "text/plain": [
       "| Done         |         | 100         | 75.062ms     |"
      ]
     },
     "metadata": {},
     "output_type": "display_data"
    },
    {
     "data": {
      "text/html": [
       "<pre>+--------------+---------+-------------+--------------+</pre>"
      ],
      "text/plain": [
       "+--------------+---------+-------------+--------------+"
      ]
     },
     "metadata": {},
     "output_type": "display_data"
    },
    {
     "data": {
      "text/html": [
       "<div style=\"max-height:1000px;max-width:1500px;overflow:auto;\"><table frame=\"box\" rules=\"cols\">\n",
       "    <tr>\n",
       "        <th style=\"padding-left: 1em; padding-right: 1em; text-align: center\">query_label</th>\n",
       "        <th style=\"padding-left: 1em; padding-right: 1em; text-align: center\">reference_label</th>\n",
       "        <th style=\"padding-left: 1em; padding-right: 1em; text-align: center\">distance</th>\n",
       "        <th style=\"padding-left: 1em; padding-right: 1em; text-align: center\">rank</th>\n",
       "    </tr>\n",
       "    <tr>\n",
       "        <td style=\"padding-left: 1em; padding-right: 1em; text-align: center; vertical-align: top\">0</td>\n",
       "        <td style=\"padding-left: 1em; padding-right: 1em; text-align: center; vertical-align: top\">16289</td>\n",
       "        <td style=\"padding-left: 1em; padding-right: 1em; text-align: center; vertical-align: top\">34.62371920804245</td>\n",
       "        <td style=\"padding-left: 1em; padding-right: 1em; text-align: center; vertical-align: top\">1</td>\n",
       "    </tr>\n",
       "    <tr>\n",
       "        <td style=\"padding-left: 1em; padding-right: 1em; text-align: center; vertical-align: top\">0</td>\n",
       "        <td style=\"padding-left: 1em; padding-right: 1em; text-align: center; vertical-align: top\">45646</td>\n",
       "        <td style=\"padding-left: 1em; padding-right: 1em; text-align: center; vertical-align: top\">36.00687992842462</td>\n",
       "        <td style=\"padding-left: 1em; padding-right: 1em; text-align: center; vertical-align: top\">2</td>\n",
       "    </tr>\n",
       "    <tr>\n",
       "        <td style=\"padding-left: 1em; padding-right: 1em; text-align: center; vertical-align: top\">0</td>\n",
       "        <td style=\"padding-left: 1em; padding-right: 1em; text-align: center; vertical-align: top\">32139</td>\n",
       "        <td style=\"padding-left: 1em; padding-right: 1em; text-align: center; vertical-align: top\">36.52008134363789</td>\n",
       "        <td style=\"padding-left: 1em; padding-right: 1em; text-align: center; vertical-align: top\">3</td>\n",
       "    </tr>\n",
       "    <tr>\n",
       "        <td style=\"padding-left: 1em; padding-right: 1em; text-align: center; vertical-align: top\">0</td>\n",
       "        <td style=\"padding-left: 1em; padding-right: 1em; text-align: center; vertical-align: top\">25713</td>\n",
       "        <td style=\"padding-left: 1em; padding-right: 1em; text-align: center; vertical-align: top\">36.754850252057054</td>\n",
       "        <td style=\"padding-left: 1em; padding-right: 1em; text-align: center; vertical-align: top\">4</td>\n",
       "    </tr>\n",
       "    <tr>\n",
       "        <td style=\"padding-left: 1em; padding-right: 1em; text-align: center; vertical-align: top\">0</td>\n",
       "        <td style=\"padding-left: 1em; padding-right: 1em; text-align: center; vertical-align: top\">331</td>\n",
       "        <td style=\"padding-left: 1em; padding-right: 1em; text-align: center; vertical-align: top\">36.87312281675268</td>\n",
       "        <td style=\"padding-left: 1em; padding-right: 1em; text-align: center; vertical-align: top\">5</td>\n",
       "    </tr>\n",
       "</table>\n",
       "[5 rows x 4 columns]<br/>\n",
       "</div>"
      ],
      "text/plain": [
       "Columns:\n",
       "\tquery_label\tint\n",
       "\treference_label\tint\n",
       "\tdistance\tfloat\n",
       "\trank\tint\n",
       "\n",
       "Rows: 5\n",
       "\n",
       "Data:\n",
       "+-------------+-----------------+--------------------+------+\n",
       "| query_label | reference_label |      distance      | rank |\n",
       "+-------------+-----------------+--------------------+------+\n",
       "|      0      |      16289      | 34.62371920804245  |  1   |\n",
       "|      0      |      45646      | 36.00687992842462  |  2   |\n",
       "|      0      |      32139      | 36.52008134363789  |  3   |\n",
       "|      0      |      25713      | 36.754850252057054 |  4   |\n",
       "|      0      |       331       | 36.87312281675268  |  5   |\n",
       "+-------------+-----------------+--------------------+------+\n",
       "[5 rows x 4 columns]"
      ]
     },
     "execution_count": 68,
     "metadata": {},
     "output_type": "execute_result"
    }
   ],
   "source": [
    "cat_model.query(test_data[0:1])"
   ]
  },
  {
   "cell_type": "code",
   "execution_count": 71,
   "metadata": {},
   "outputs": [],
   "source": [
    "def mean_distance(q):\n",
    "    return q['distance'].mean()"
   ]
  },
  {
   "cell_type": "code",
   "execution_count": 72,
   "metadata": {},
   "outputs": [
    {
     "data": {
      "text/html": [
       "<pre>Starting pairwise querying.</pre>"
      ],
      "text/plain": [
       "Starting pairwise querying."
      ]
     },
     "metadata": {},
     "output_type": "display_data"
    },
    {
     "data": {
      "text/html": [
       "<pre>+--------------+---------+-------------+--------------+</pre>"
      ],
      "text/plain": [
       "+--------------+---------+-------------+--------------+"
      ]
     },
     "metadata": {},
     "output_type": "display_data"
    },
    {
     "data": {
      "text/html": [
       "<pre>| Query points | # Pairs | % Complete. | Elapsed Time |</pre>"
      ],
      "text/plain": [
       "| Query points | # Pairs | % Complete. | Elapsed Time |"
      ]
     },
     "metadata": {},
     "output_type": "display_data"
    },
    {
     "data": {
      "text/html": [
       "<pre>+--------------+---------+-------------+--------------+</pre>"
      ],
      "text/plain": [
       "+--------------+---------+-------------+--------------+"
      ]
     },
     "metadata": {},
     "output_type": "display_data"
    },
    {
     "data": {
      "text/html": [
       "<pre>| 0            | 1       | 0.196464    | 14.592ms     |</pre>"
      ],
      "text/plain": [
       "| 0            | 1       | 0.196464    | 14.592ms     |"
      ]
     },
     "metadata": {},
     "output_type": "display_data"
    },
    {
     "data": {
      "text/html": [
       "<pre>| Done         |         | 100         | 82.982ms     |</pre>"
      ],
      "text/plain": [
       "| Done         |         | 100         | 82.982ms     |"
      ]
     },
     "metadata": {},
     "output_type": "display_data"
    },
    {
     "data": {
      "text/html": [
       "<pre>+--------------+---------+-------------+--------------+</pre>"
      ],
      "text/plain": [
       "+--------------+---------+-------------+--------------+"
      ]
     },
     "metadata": {},
     "output_type": "display_data"
    },
    {
     "data": {
      "text/plain": [
       "36.15573070978294"
      ]
     },
     "execution_count": 72,
     "metadata": {},
     "output_type": "execute_result"
    }
   ],
   "source": [
    "mean_distance(cat_model.query(test_data[0:1]))"
   ]
  },
  {
   "cell_type": "code",
   "execution_count": 73,
   "metadata": {},
   "outputs": [
    {
     "data": {
      "text/html": [
       "<pre>Starting pairwise querying.</pre>"
      ],
      "text/plain": [
       "Starting pairwise querying."
      ]
     },
     "metadata": {},
     "output_type": "display_data"
    },
    {
     "data": {
      "text/html": [
       "<pre>+--------------+---------+-------------+--------------+</pre>"
      ],
      "text/plain": [
       "+--------------+---------+-------------+--------------+"
      ]
     },
     "metadata": {},
     "output_type": "display_data"
    },
    {
     "data": {
      "text/html": [
       "<pre>| Query points | # Pairs | % Complete. | Elapsed Time |</pre>"
      ],
      "text/plain": [
       "| Query points | # Pairs | % Complete. | Elapsed Time |"
      ]
     },
     "metadata": {},
     "output_type": "display_data"
    },
    {
     "data": {
      "text/html": [
       "<pre>+--------------+---------+-------------+--------------+</pre>"
      ],
      "text/plain": [
       "+--------------+---------+-------------+--------------+"
      ]
     },
     "metadata": {},
     "output_type": "display_data"
    },
    {
     "data": {
      "text/html": [
       "<pre>| 0            | 1       | 0.196464    | 17.359ms     |</pre>"
      ],
      "text/plain": [
       "| 0            | 1       | 0.196464    | 17.359ms     |"
      ]
     },
     "metadata": {},
     "output_type": "display_data"
    },
    {
     "data": {
      "text/plain": [
       "37.77071136184156"
      ]
     },
     "execution_count": 73,
     "metadata": {},
     "output_type": "execute_result"
    },
    {
     "data": {
      "text/html": [
       "<pre>| Done         |         | 100         | 68.959ms     |</pre>"
      ],
      "text/plain": [
       "| Done         |         | 100         | 68.959ms     |"
      ]
     },
     "metadata": {},
     "output_type": "display_data"
    },
    {
     "data": {
      "text/html": [
       "<pre>+--------------+---------+-------------+--------------+</pre>"
      ],
      "text/plain": [
       "+--------------+---------+-------------+--------------+"
      ]
     },
     "metadata": {},
     "output_type": "display_data"
    }
   ],
   "source": [
    "mean_distance(dog_model.query(test_data[0:1]))"
   ]
  },
  {
   "cell_type": "code",
   "execution_count": 78,
   "metadata": {},
   "outputs": [
    {
     "data": {
      "text/html": [
       "<pre>Starting pairwise querying.</pre>"
      ],
      "text/plain": [
       "Starting pairwise querying."
      ]
     },
     "metadata": {},
     "output_type": "display_data"
    },
    {
     "data": {
      "text/html": [
       "<pre>+--------------+---------+-------------+--------------+</pre>"
      ],
      "text/plain": [
       "+--------------+---------+-------------+--------------+"
      ]
     },
     "metadata": {},
     "output_type": "display_data"
    },
    {
     "data": {
      "text/html": [
       "<pre>| Query points | # Pairs | % Complete. | Elapsed Time |</pre>"
      ],
      "text/plain": [
       "| Query points | # Pairs | % Complete. | Elapsed Time |"
      ]
     },
     "metadata": {},
     "output_type": "display_data"
    },
    {
     "data": {
      "text/html": [
       "<pre>+--------------+---------+-------------+--------------+</pre>"
      ],
      "text/plain": [
       "+--------------+---------+-------------+--------------+"
      ]
     },
     "metadata": {},
     "output_type": "display_data"
    },
    {
     "data": {
      "text/html": [
       "<pre>| 0            | 1       | 0.196464    | 12.579ms     |</pre>"
      ],
      "text/plain": [
       "| 0            | 1       | 0.196464    | 12.579ms     |"
      ]
     },
     "metadata": {},
     "output_type": "display_data"
    },
    {
     "data": {
      "text/html": [
       "<pre>| Done         |         | 100         | 82.288ms     |</pre>"
      ],
      "text/plain": [
       "| Done         |         | 100         | 82.288ms     |"
      ]
     },
     "metadata": {},
     "output_type": "display_data"
    },
    {
     "data": {
      "text/html": [
       "<pre>+--------------+---------+-------------+--------------+</pre>"
      ],
      "text/plain": [
       "+--------------+---------+-------------+--------------+"
      ]
     },
     "metadata": {},
     "output_type": "display_data"
    },
    {
     "data": {
      "text/html": [
       "<div style=\"max-height:1000px;max-width:1500px;overflow:auto;\"><table frame=\"box\" rules=\"cols\">\n",
       "    <tr>\n",
       "        <th style=\"padding-left: 1em; padding-right: 1em; text-align: center\">query_label</th>\n",
       "        <th style=\"padding-left: 1em; padding-right: 1em; text-align: center\">reference_label</th>\n",
       "        <th style=\"padding-left: 1em; padding-right: 1em; text-align: center\">distance</th>\n",
       "        <th style=\"padding-left: 1em; padding-right: 1em; text-align: center\">rank</th>\n",
       "    </tr>\n",
       "    <tr>\n",
       "        <td style=\"padding-left: 1em; padding-right: 1em; text-align: center; vertical-align: top\">0</td>\n",
       "        <td style=\"padding-left: 1em; padding-right: 1em; text-align: center; vertical-align: top\">41989</td>\n",
       "        <td style=\"padding-left: 1em; padding-right: 1em; text-align: center; vertical-align: top\">40.46011258793056</td>\n",
       "        <td style=\"padding-left: 1em; padding-right: 1em; text-align: center; vertical-align: top\">1</td>\n",
       "    </tr>\n",
       "</table>\n",
       "[1 rows x 4 columns]<br/>\n",
       "</div>"
      ],
      "text/plain": [
       "Columns:\n",
       "\tquery_label\tint\n",
       "\treference_label\tint\n",
       "\tdistance\tfloat\n",
       "\trank\tint\n",
       "\n",
       "Rows: 1\n",
       "\n",
       "Data:\n",
       "+-------------+-----------------+-------------------+------+\n",
       "| query_label | reference_label |      distance     | rank |\n",
       "+-------------+-----------------+-------------------+------+\n",
       "|      0      |      41989      | 40.46011258793056 |  1   |\n",
       "+-------------+-----------------+-------------------+------+\n",
       "[1 rows x 4 columns]"
      ]
     },
     "execution_count": 78,
     "metadata": {},
     "output_type": "execute_result"
    }
   ],
   "source": [
    "cat_model.query(dog[0:1],k=1)"
   ]
  },
  {
   "cell_type": "code",
   "execution_count": 84,
   "metadata": {
    "scrolled": true
   },
   "outputs": [
    {
     "data": {
      "text/html": [
       "<pre>Starting blockwise querying.</pre>"
      ],
      "text/plain": [
       "Starting blockwise querying."
      ]
     },
     "metadata": {},
     "output_type": "display_data"
    },
    {
     "data": {
      "text/html": [
       "<pre>max rows per data block: 4348</pre>"
      ],
      "text/plain": [
       "max rows per data block: 4348"
      ]
     },
     "metadata": {},
     "output_type": "display_data"
    },
    {
     "data": {
      "text/html": [
       "<pre>number of reference data blocks: 4</pre>"
      ],
      "text/plain": [
       "number of reference data blocks: 4"
      ]
     },
     "metadata": {},
     "output_type": "display_data"
    },
    {
     "data": {
      "text/html": [
       "<pre>number of query data blocks: 1</pre>"
      ],
      "text/plain": [
       "number of query data blocks: 1"
      ]
     },
     "metadata": {},
     "output_type": "display_data"
    },
    {
     "data": {
      "text/html": [
       "<pre>+--------------+---------+-------------+--------------+</pre>"
      ],
      "text/plain": [
       "+--------------+---------+-------------+--------------+"
      ]
     },
     "metadata": {},
     "output_type": "display_data"
    },
    {
     "data": {
      "text/html": [
       "<pre>| Query points | # Pairs | % Complete. | Elapsed Time |</pre>"
      ],
      "text/plain": [
       "| Query points | # Pairs | % Complete. | Elapsed Time |"
      ]
     },
     "metadata": {},
     "output_type": "display_data"
    },
    {
     "data": {
      "text/html": [
       "<pre>+--------------+---------+-------------+--------------+</pre>"
      ],
      "text/plain": [
       "+--------------+---------+-------------+--------------+"
      ]
     },
     "metadata": {},
     "output_type": "display_data"
    },
    {
     "data": {
      "text/html": [
       "<pre>| 1000         | 127000  | 24.9509     | 623.545ms    |</pre>"
      ],
      "text/plain": [
       "| 1000         | 127000  | 24.9509     | 623.545ms    |"
      ]
     },
     "metadata": {},
     "output_type": "display_data"
    },
    {
     "data": {
      "text/html": [
       "<pre>| Done         | 509000  | 100         | 675.562ms    |</pre>"
      ],
      "text/plain": [
       "| Done         | 509000  | 100         | 675.562ms    |"
      ]
     },
     "metadata": {},
     "output_type": "display_data"
    },
    {
     "data": {
      "text/html": [
       "<pre>+--------------+---------+-------------+--------------+</pre>"
      ],
      "text/plain": [
       "+--------------+---------+-------------+--------------+"
      ]
     },
     "metadata": {},
     "output_type": "display_data"
    },
    {
     "data": {
      "text/html": [
       "<pre>Starting blockwise querying.</pre>"
      ],
      "text/plain": [
       "Starting blockwise querying."
      ]
     },
     "metadata": {},
     "output_type": "display_data"
    },
    {
     "data": {
      "text/html": [
       "<pre>max rows per data block: 4348</pre>"
      ],
      "text/plain": [
       "max rows per data block: 4348"
      ]
     },
     "metadata": {},
     "output_type": "display_data"
    },
    {
     "data": {
      "text/html": [
       "<pre>number of reference data blocks: 4</pre>"
      ],
      "text/plain": [
       "number of reference data blocks: 4"
      ]
     },
     "metadata": {},
     "output_type": "display_data"
    },
    {
     "data": {
      "text/html": [
       "<pre>number of query data blocks: 1</pre>"
      ],
      "text/plain": [
       "number of query data blocks: 1"
      ]
     },
     "metadata": {},
     "output_type": "display_data"
    },
    {
     "data": {
      "text/html": [
       "<pre>+--------------+---------+-------------+--------------+</pre>"
      ],
      "text/plain": [
       "+--------------+---------+-------------+--------------+"
      ]
     },
     "metadata": {},
     "output_type": "display_data"
    },
    {
     "data": {
      "text/html": [
       "<pre>| Query points | # Pairs | % Complete. | Elapsed Time |</pre>"
      ],
      "text/plain": [
       "| Query points | # Pairs | % Complete. | Elapsed Time |"
      ]
     },
     "metadata": {},
     "output_type": "display_data"
    },
    {
     "data": {
      "text/html": [
       "<pre>+--------------+---------+-------------+--------------+</pre>"
      ],
      "text/plain": [
       "+--------------+---------+-------------+--------------+"
      ]
     },
     "metadata": {},
     "output_type": "display_data"
    },
    {
     "data": {
      "text/html": [
       "<pre>| 1000         | 128000  | 25.1473     | 614.486ms    |</pre>"
      ],
      "text/plain": [
       "| 1000         | 128000  | 25.1473     | 614.486ms    |"
      ]
     },
     "metadata": {},
     "output_type": "display_data"
    },
    {
     "data": {
      "text/html": [
       "<pre>| Done         | 509000  | 100         | 695.291ms    |</pre>"
      ],
      "text/plain": [
       "| Done         | 509000  | 100         | 695.291ms    |"
      ]
     },
     "metadata": {},
     "output_type": "display_data"
    },
    {
     "data": {
      "text/html": [
       "<pre>+--------------+---------+-------------+--------------+</pre>"
      ],
      "text/plain": [
       "+--------------+---------+-------------+--------------+"
      ]
     },
     "metadata": {},
     "output_type": "display_data"
    },
    {
     "data": {
      "text/html": [
       "<pre>Starting blockwise querying.</pre>"
      ],
      "text/plain": [
       "Starting blockwise querying."
      ]
     },
     "metadata": {},
     "output_type": "display_data"
    },
    {
     "data": {
      "text/html": [
       "<pre>max rows per data block: 4348</pre>"
      ],
      "text/plain": [
       "max rows per data block: 4348"
      ]
     },
     "metadata": {},
     "output_type": "display_data"
    },
    {
     "data": {
      "text/html": [
       "<pre>number of reference data blocks: 4</pre>"
      ],
      "text/plain": [
       "number of reference data blocks: 4"
      ]
     },
     "metadata": {},
     "output_type": "display_data"
    },
    {
     "data": {
      "text/html": [
       "<pre>number of query data blocks: 1</pre>"
      ],
      "text/plain": [
       "number of query data blocks: 1"
      ]
     },
     "metadata": {},
     "output_type": "display_data"
    },
    {
     "data": {
      "text/html": [
       "<pre>+--------------+---------+-------------+--------------+</pre>"
      ],
      "text/plain": [
       "+--------------+---------+-------------+--------------+"
      ]
     },
     "metadata": {},
     "output_type": "display_data"
    },
    {
     "data": {
      "text/html": [
       "<pre>| Query points | # Pairs | % Complete. | Elapsed Time |</pre>"
      ],
      "text/plain": [
       "| Query points | # Pairs | % Complete. | Elapsed Time |"
      ]
     },
     "metadata": {},
     "output_type": "display_data"
    },
    {
     "data": {
      "text/html": [
       "<pre>+--------------+---------+-------------+--------------+</pre>"
      ],
      "text/plain": [
       "+--------------+---------+-------------+--------------+"
      ]
     },
     "metadata": {},
     "output_type": "display_data"
    },
    {
     "data": {
      "text/html": [
       "<pre>| 1000         | 119000  | 24.8954     | 589.074ms    |</pre>"
      ],
      "text/plain": [
       "| 1000         | 119000  | 24.8954     | 589.074ms    |"
      ]
     },
     "metadata": {},
     "output_type": "display_data"
    },
    {
     "data": {
      "text/html": [
       "<pre>| Done         | 478000  | 100         | 626.306ms    |</pre>"
      ],
      "text/plain": [
       "| Done         | 478000  | 100         | 626.306ms    |"
      ]
     },
     "metadata": {},
     "output_type": "display_data"
    },
    {
     "data": {
      "text/html": [
       "<pre>+--------------+---------+-------------+--------------+</pre>"
      ],
      "text/plain": [
       "+--------------+---------+-------------+--------------+"
      ]
     },
     "metadata": {},
     "output_type": "display_data"
    },
    {
     "data": {
      "text/html": [
       "<pre>Starting blockwise querying.</pre>"
      ],
      "text/plain": [
       "Starting blockwise querying."
      ]
     },
     "metadata": {},
     "output_type": "display_data"
    },
    {
     "data": {
      "text/html": [
       "<pre>max rows per data block: 4348</pre>"
      ],
      "text/plain": [
       "max rows per data block: 4348"
      ]
     },
     "metadata": {},
     "output_type": "display_data"
    },
    {
     "data": {
      "text/html": [
       "<pre>number of reference data blocks: 4</pre>"
      ],
      "text/plain": [
       "number of reference data blocks: 4"
      ]
     },
     "metadata": {},
     "output_type": "display_data"
    },
    {
     "data": {
      "text/html": [
       "<pre>number of query data blocks: 1</pre>"
      ],
      "text/plain": [
       "number of query data blocks: 1"
      ]
     },
     "metadata": {},
     "output_type": "display_data"
    },
    {
     "data": {
      "text/html": [
       "<pre>+--------------+---------+-------------+--------------+</pre>"
      ],
      "text/plain": [
       "+--------------+---------+-------------+--------------+"
      ]
     },
     "metadata": {},
     "output_type": "display_data"
    },
    {
     "data": {
      "text/html": [
       "<pre>| Query points | # Pairs | % Complete. | Elapsed Time |</pre>"
      ],
      "text/plain": [
       "| Query points | # Pairs | % Complete. | Elapsed Time |"
      ]
     },
     "metadata": {},
     "output_type": "display_data"
    },
    {
     "data": {
      "text/html": [
       "<pre>+--------------+---------+-------------+--------------+</pre>"
      ],
      "text/plain": [
       "+--------------+---------+-------------+--------------+"
      ]
     },
     "metadata": {},
     "output_type": "display_data"
    },
    {
     "data": {
      "text/html": [
       "<pre>| 1000         | 127000  | 24.9509     | 604.08ms     |</pre>"
      ],
      "text/plain": [
       "| 1000         | 127000  | 24.9509     | 604.08ms     |"
      ]
     },
     "metadata": {},
     "output_type": "display_data"
    },
    {
     "data": {
      "text/html": [
       "<pre>| Done         | 509000  | 100         | 658.576ms    |</pre>"
      ],
      "text/plain": [
       "| Done         | 509000  | 100         | 658.576ms    |"
      ]
     },
     "metadata": {},
     "output_type": "display_data"
    },
    {
     "data": {
      "text/html": [
       "<pre>+--------------+---------+-------------+--------------+</pre>"
      ],
      "text/plain": [
       "+--------------+---------+-------------+--------------+"
      ]
     },
     "metadata": {},
     "output_type": "display_data"
    }
   ],
   "source": [
    "new = tc.SFrame({'dog-dog':dog_model.query(dog_test)['distance'],'dog-cat': cat_model.query(dog_test)['distance'],'dog-bird':bird_model.query(dog_test)['distance'],'dog-automobile':automobile_model.query(dog_test)['distance']})"
   ]
  },
  {
   "cell_type": "code",
   "execution_count": 85,
   "metadata": {},
   "outputs": [
    {
     "data": {
      "text/html": [
       "<div style=\"max-height:1000px;max-width:1500px;overflow:auto;\"><table frame=\"box\" rules=\"cols\">\n",
       "    <tr>\n",
       "        <th style=\"padding-left: 1em; padding-right: 1em; text-align: center\">dog-automobile</th>\n",
       "        <th style=\"padding-left: 1em; padding-right: 1em; text-align: center\">dog-bird</th>\n",
       "        <th style=\"padding-left: 1em; padding-right: 1em; text-align: center\">dog-cat</th>\n",
       "        <th style=\"padding-left: 1em; padding-right: 1em; text-align: center\">dog-dog</th>\n",
       "    </tr>\n",
       "    <tr>\n",
       "        <td style=\"padding-left: 1em; padding-right: 1em; text-align: center; vertical-align: top\">41.95797614571203</td>\n",
       "        <td style=\"padding-left: 1em; padding-right: 1em; text-align: center; vertical-align: top\">41.75386473035126</td>\n",
       "        <td style=\"padding-left: 1em; padding-right: 1em; text-align: center; vertical-align: top\">36.419607706754384</td>\n",
       "        <td style=\"padding-left: 1em; padding-right: 1em; text-align: center; vertical-align: top\">33.47735903726335</td>\n",
       "    </tr>\n",
       "    <tr>\n",
       "        <td style=\"padding-left: 1em; padding-right: 1em; text-align: center; vertical-align: top\">44.14373214153456</td>\n",
       "        <td style=\"padding-left: 1em; padding-right: 1em; text-align: center; vertical-align: top\">41.86658284356225</td>\n",
       "        <td style=\"padding-left: 1em; padding-right: 1em; text-align: center; vertical-align: top\">36.51516347744005</td>\n",
       "        <td style=\"padding-left: 1em; padding-right: 1em; text-align: center; vertical-align: top\">34.415221599022765</td>\n",
       "    </tr>\n",
       "    <tr>\n",
       "        <td style=\"padding-left: 1em; padding-right: 1em; text-align: center; vertical-align: top\">44.47761378698352</td>\n",
       "        <td style=\"padding-left: 1em; padding-right: 1em; text-align: center; vertical-align: top\">41.967965127552155</td>\n",
       "        <td style=\"padding-left: 1em; padding-right: 1em; text-align: center; vertical-align: top\">37.064258043761285</td>\n",
       "        <td style=\"padding-left: 1em; padding-right: 1em; text-align: center; vertical-align: top\">34.81386300614125</td>\n",
       "    </tr>\n",
       "    <tr>\n",
       "        <td style=\"padding-left: 1em; padding-right: 1em; text-align: center; vertical-align: top\">45.10424203606771</td>\n",
       "        <td style=\"padding-left: 1em; padding-right: 1em; text-align: center; vertical-align: top\">42.22667318207734</td>\n",
       "        <td style=\"padding-left: 1em; padding-right: 1em; text-align: center; vertical-align: top\">37.121772549165435</td>\n",
       "        <td style=\"padding-left: 1em; padding-right: 1em; text-align: center; vertical-align: top\">34.928931346762994</td>\n",
       "    </tr>\n",
       "    <tr>\n",
       "        <td style=\"padding-left: 1em; padding-right: 1em; text-align: center; vertical-align: top\">45.286528163960504</td>\n",
       "        <td style=\"padding-left: 1em; padding-right: 1em; text-align: center; vertical-align: top\">42.330722321998884</td>\n",
       "        <td style=\"padding-left: 1em; padding-right: 1em; text-align: center; vertical-align: top\">38.283714583643565</td>\n",
       "        <td style=\"padding-left: 1em; padding-right: 1em; text-align: center; vertical-align: top\">37.15464091935056</td>\n",
       "    </tr>\n",
       "    <tr>\n",
       "        <td style=\"padding-left: 1em; padding-right: 1em; text-align: center; vertical-align: top\">46.00213318067788</td>\n",
       "        <td style=\"padding-left: 1em; padding-right: 1em; text-align: center; vertical-align: top\">41.3382958924861</td>\n",
       "        <td style=\"padding-left: 1em; padding-right: 1em; text-align: center; vertical-align: top\">38.83532688735542</td>\n",
       "        <td style=\"padding-left: 1em; padding-right: 1em; text-align: center; vertical-align: top\">32.84584956840554</td>\n",
       "    </tr>\n",
       "    <tr>\n",
       "        <td style=\"padding-left: 1em; padding-right: 1em; text-align: center; vertical-align: top\">46.3466070394567</td>\n",
       "        <td style=\"padding-left: 1em; padding-right: 1em; text-align: center; vertical-align: top\">41.86271836184139</td>\n",
       "        <td style=\"padding-left: 1em; padding-right: 1em; text-align: center; vertical-align: top\">38.95886185782913</td>\n",
       "        <td style=\"padding-left: 1em; padding-right: 1em; text-align: center; vertical-align: top\">35.63795725175503</td>\n",
       "    </tr>\n",
       "    <tr>\n",
       "        <td style=\"padding-left: 1em; padding-right: 1em; text-align: center; vertical-align: top\">46.743666655399664</td>\n",
       "        <td style=\"padding-left: 1em; padding-right: 1em; text-align: center; vertical-align: top\">42.71269395355365</td>\n",
       "        <td style=\"padding-left: 1em; padding-right: 1em; text-align: center; vertical-align: top\">39.053535566145136</td>\n",
       "        <td style=\"padding-left: 1em; padding-right: 1em; text-align: center; vertical-align: top\">37.00424635846063</td>\n",
       "    </tr>\n",
       "    <tr>\n",
       "        <td style=\"padding-left: 1em; padding-right: 1em; text-align: center; vertical-align: top\">47.79929118249042</td>\n",
       "        <td style=\"padding-left: 1em; padding-right: 1em; text-align: center; vertical-align: top\">43.65886761576576</td>\n",
       "        <td style=\"padding-left: 1em; padding-right: 1em; text-align: center; vertical-align: top\">39.930191990811885</td>\n",
       "        <td style=\"padding-left: 1em; padding-right: 1em; text-align: center; vertical-align: top\">37.005163212466954</td>\n",
       "    </tr>\n",
       "    <tr>\n",
       "        <td style=\"padding-left: 1em; padding-right: 1em; text-align: center; vertical-align: top\">47.985709824421406</td>\n",
       "        <td style=\"padding-left: 1em; padding-right: 1em; text-align: center; vertical-align: top\">44.44544065202869</td>\n",
       "        <td style=\"padding-left: 1em; padding-right: 1em; text-align: center; vertical-align: top\">40.381155378357704</td>\n",
       "        <td style=\"padding-left: 1em; padding-right: 1em; text-align: center; vertical-align: top\">37.927903158721776</td>\n",
       "    </tr>\n",
       "</table>\n",
       "[5000 rows x 4 columns]<br/>Note: Only the head of the SFrame is printed.<br/>You can use print_rows(num_rows=m, num_columns=n) to print more rows and columns.\n",
       "</div>"
      ],
      "text/plain": [
       "Columns:\n",
       "\tdog-automobile\tfloat\n",
       "\tdog-bird\tfloat\n",
       "\tdog-cat\tfloat\n",
       "\tdog-dog\tfloat\n",
       "\n",
       "Rows: 5000\n",
       "\n",
       "Data:\n",
       "+--------------------+--------------------+--------------------+\n",
       "|   dog-automobile   |      dog-bird      |      dog-cat       |\n",
       "+--------------------+--------------------+--------------------+\n",
       "| 41.95797614571203  | 41.75386473035126  | 36.419607706754384 |\n",
       "| 44.14373214153456  | 41.86658284356225  | 36.51516347744005  |\n",
       "| 44.47761378698352  | 41.967965127552155 | 37.064258043761285 |\n",
       "| 45.10424203606771  | 42.22667318207734  | 37.121772549165435 |\n",
       "| 45.286528163960504 | 42.330722321998884 | 38.283714583643565 |\n",
       "| 46.00213318067788  |  41.3382958924861  | 38.83532688735542  |\n",
       "|  46.3466070394567  | 41.86271836184139  | 38.95886185782913  |\n",
       "| 46.743666655399664 | 42.71269395355365  | 39.053535566145136 |\n",
       "| 47.79929118249042  | 43.65886761576576  | 39.930191990811885 |\n",
       "| 47.985709824421406 | 44.44544065202869  | 40.381155378357704 |\n",
       "+--------------------+--------------------+--------------------+\n",
       "+--------------------+\n",
       "|      dog-dog       |\n",
       "+--------------------+\n",
       "| 33.47735903726335  |\n",
       "| 34.415221599022765 |\n",
       "| 34.81386300614125  |\n",
       "| 34.928931346762994 |\n",
       "| 37.15464091935056  |\n",
       "| 32.84584956840554  |\n",
       "| 35.63795725175503  |\n",
       "| 37.00424635846063  |\n",
       "| 37.005163212466954 |\n",
       "| 37.927903158721776 |\n",
       "+--------------------+\n",
       "[5000 rows x 4 columns]\n",
       "Note: Only the head of the SFrame is printed.\n",
       "You can use print_rows(num_rows=m, num_columns=n) to print more rows and columns."
      ]
     },
     "execution_count": 85,
     "metadata": {},
     "output_type": "execute_result"
    }
   ],
   "source": [
    "new"
   ]
  },
  {
   "cell_type": "code",
   "execution_count": 112,
   "metadata": {},
   "outputs": [],
   "source": [
    "def is_dog_correct(row):\n",
    "    if row['dog-dog'] > row['dog-cat']:\n",
    "        if row['dog-dog'] > row['dog-bird']:\n",
    "            if row['dog-dog'] > row['dog-automobile']:\n",
    "                return 1\n",
    "            else:\n",
    "                return 0\n",
    "        else:\n",
    "            return 0\n",
    "    else:\n",
    "        return 0"
   ]
  },
  {
   "cell_type": "code",
   "execution_count": 113,
   "metadata": {},
   "outputs": [
    {
     "data": {
      "text/plain": [
       "41"
      ]
     },
     "execution_count": 113,
     "metadata": {},
     "output_type": "execute_result"
    }
   ],
   "source": [
    "sum(new.apply(is_dog_correct))"
   ]
  },
  {
   "cell_type": "code",
   "execution_count": 111,
   "metadata": {},
   "outputs": [
    {
     "data": {
      "text/plain": [
       "0.2638"
      ]
     },
     "execution_count": 111,
     "metadata": {},
     "output_type": "execute_result"
    }
   ],
   "source": [
    "1319/5000"
   ]
  },
  {
   "cell_type": "code",
   "execution_count": 105,
   "metadata": {},
   "outputs": [
    {
     "data": {
      "text/plain": [
       "Class                          : NearestNeighborsModel\n",
       "\n",
       "Attributes\n",
       "----------\n",
       "Method                         : brute_force\n",
       "Number of distance components  : 1\n",
       "Number of examples             : 509\n",
       "Number of feature columns      : 1\n",
       "Number of unpacked features    : 4096\n",
       "Distance                       : euclidean\n",
       "Total training time (seconds)  : 0.1567"
      ]
     },
     "execution_count": 105,
     "metadata": {},
     "output_type": "execute_result"
    }
   ],
   "source": [
    "dog_model"
   ]
  },
  {
   "cell_type": "code",
   "execution_count": 107,
   "metadata": {},
   "outputs": [
    {
     "data": {
      "text/html": [
       "<pre>Starting brute force nearest neighbors model training.</pre>"
      ],
      "text/plain": [
       "Starting brute force nearest neighbors model training."
      ]
     },
     "metadata": {},
     "output_type": "display_data"
    },
    {
     "data": {
      "text/html": [
       "<pre>Validating distance components.</pre>"
      ],
      "text/plain": [
       "Validating distance components."
      ]
     },
     "metadata": {},
     "output_type": "display_data"
    },
    {
     "data": {
      "text/html": [
       "<pre>Initializing model data.</pre>"
      ],
      "text/plain": [
       "Initializing model data."
      ]
     },
     "metadata": {},
     "output_type": "display_data"
    },
    {
     "data": {
      "text/html": [
       "<pre>Initializing distances.</pre>"
      ],
      "text/plain": [
       "Initializing distances."
      ]
     },
     "metadata": {},
     "output_type": "display_data"
    },
    {
     "data": {
      "text/html": [
       "<pre>Done.</pre>"
      ],
      "text/plain": [
       "Done."
      ]
     },
     "metadata": {},
     "output_type": "display_data"
    }
   ],
   "source": [
    "dog_model=tc.nearest_neighbors.create(dog,features=['deep_features'],label='id')"
   ]
  },
  {
   "cell_type": "code",
   "execution_count": 108,
   "metadata": {},
   "outputs": [
    {
     "name": "stdout",
     "output_type": "stream",
     "text": [
      "Class                          : NearestNeighborsModel\n",
      "\n",
      "Attributes\n",
      "----------\n",
      "Method                         : brute_force\n",
      "Number of distance components  : 1\n",
      "Number of examples             : 509\n",
      "Number of feature columns      : 1\n",
      "Number of unpacked features    : 4096\n",
      "Distance                       : euclidean\n",
      "Total training time (seconds)  : 0.1481\n",
      "\n"
     ]
    }
   ],
   "source": [
    "dog_model.summary()"
   ]
  },
  {
   "cell_type": "code",
   "execution_count": null,
   "metadata": {},
   "outputs": [],
   "source": []
  }
 ],
 "metadata": {
  "kernelspec": {
   "display_name": "Python 3",
   "language": "python",
   "name": "python3"
  },
  "language_info": {
   "codemirror_mode": {
    "name": "ipython",
    "version": 3
   },
   "file_extension": ".py",
   "mimetype": "text/x-python",
   "name": "python",
   "nbconvert_exporter": "python",
   "pygments_lexer": "ipython3",
   "version": "3.6.9"
  }
 },
 "nbformat": 4,
 "nbformat_minor": 4
}
