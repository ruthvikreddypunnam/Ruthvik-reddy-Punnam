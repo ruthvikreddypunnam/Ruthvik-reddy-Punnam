{
 "cells": [
  {
   "cell_type": "markdown",
   "metadata": {},
   "source": [
    "1.  Find the salary for the experience of 4.2 years and 5.2 years from the given dataset (salary_data) using simple linear regression. Train the model up to 10 iteration. And plot graph for error rate."
   ]
  },
  {
   "cell_type": "code",
   "execution_count": 140,
   "metadata": {},
   "outputs": [],
   "source": [
    "import pandas as pd\n",
    "import random as r\n",
    "import numpy as np\n",
    "import matplotlib.pyplot as plt"
   ]
  },
  {
   "cell_type": "code",
   "execution_count": 108,
   "metadata": {},
   "outputs": [],
   "source": [
    "data=pd.read_csv('Salary_Data.csv')"
   ]
  },
  {
   "cell_type": "code",
   "execution_count": 109,
   "metadata": {},
   "outputs": [
    {
     "data": {
      "text/html": [
       "<div>\n",
       "<style scoped>\n",
       "    .dataframe tbody tr th:only-of-type {\n",
       "        vertical-align: middle;\n",
       "    }\n",
       "\n",
       "    .dataframe tbody tr th {\n",
       "        vertical-align: top;\n",
       "    }\n",
       "\n",
       "    .dataframe thead th {\n",
       "        text-align: right;\n",
       "    }\n",
       "</style>\n",
       "<table border=\"1\" class=\"dataframe\">\n",
       "  <thead>\n",
       "    <tr style=\"text-align: right;\">\n",
       "      <th></th>\n",
       "      <th>YearsExperience</th>\n",
       "      <th>Salary</th>\n",
       "    </tr>\n",
       "  </thead>\n",
       "  <tbody>\n",
       "    <tr>\n",
       "      <th>0</th>\n",
       "      <td>1.1</td>\n",
       "      <td>39343.0</td>\n",
       "    </tr>\n",
       "    <tr>\n",
       "      <th>1</th>\n",
       "      <td>1.3</td>\n",
       "      <td>46205.0</td>\n",
       "    </tr>\n",
       "    <tr>\n",
       "      <th>2</th>\n",
       "      <td>1.5</td>\n",
       "      <td>37731.0</td>\n",
       "    </tr>\n",
       "    <tr>\n",
       "      <th>3</th>\n",
       "      <td>2.0</td>\n",
       "      <td>43525.0</td>\n",
       "    </tr>\n",
       "    <tr>\n",
       "      <th>4</th>\n",
       "      <td>2.2</td>\n",
       "      <td>39891.0</td>\n",
       "    </tr>\n",
       "    <tr>\n",
       "      <th>5</th>\n",
       "      <td>2.9</td>\n",
       "      <td>56642.0</td>\n",
       "    </tr>\n",
       "    <tr>\n",
       "      <th>6</th>\n",
       "      <td>3.0</td>\n",
       "      <td>60150.0</td>\n",
       "    </tr>\n",
       "    <tr>\n",
       "      <th>7</th>\n",
       "      <td>3.2</td>\n",
       "      <td>54445.0</td>\n",
       "    </tr>\n",
       "    <tr>\n",
       "      <th>8</th>\n",
       "      <td>3.2</td>\n",
       "      <td>64445.0</td>\n",
       "    </tr>\n",
       "    <tr>\n",
       "      <th>9</th>\n",
       "      <td>3.7</td>\n",
       "      <td>57189.0</td>\n",
       "    </tr>\n",
       "    <tr>\n",
       "      <th>10</th>\n",
       "      <td>3.9</td>\n",
       "      <td>63218.0</td>\n",
       "    </tr>\n",
       "    <tr>\n",
       "      <th>11</th>\n",
       "      <td>4.0</td>\n",
       "      <td>55794.0</td>\n",
       "    </tr>\n",
       "    <tr>\n",
       "      <th>12</th>\n",
       "      <td>4.0</td>\n",
       "      <td>56957.0</td>\n",
       "    </tr>\n",
       "    <tr>\n",
       "      <th>13</th>\n",
       "      <td>4.1</td>\n",
       "      <td>57081.0</td>\n",
       "    </tr>\n",
       "    <tr>\n",
       "      <th>14</th>\n",
       "      <td>4.5</td>\n",
       "      <td>61111.0</td>\n",
       "    </tr>\n",
       "    <tr>\n",
       "      <th>15</th>\n",
       "      <td>4.9</td>\n",
       "      <td>67938.0</td>\n",
       "    </tr>\n",
       "    <tr>\n",
       "      <th>16</th>\n",
       "      <td>5.1</td>\n",
       "      <td>66029.0</td>\n",
       "    </tr>\n",
       "    <tr>\n",
       "      <th>17</th>\n",
       "      <td>5.3</td>\n",
       "      <td>83088.0</td>\n",
       "    </tr>\n",
       "    <tr>\n",
       "      <th>18</th>\n",
       "      <td>5.9</td>\n",
       "      <td>81363.0</td>\n",
       "    </tr>\n",
       "    <tr>\n",
       "      <th>19</th>\n",
       "      <td>6.0</td>\n",
       "      <td>93940.0</td>\n",
       "    </tr>\n",
       "    <tr>\n",
       "      <th>20</th>\n",
       "      <td>6.8</td>\n",
       "      <td>91738.0</td>\n",
       "    </tr>\n",
       "    <tr>\n",
       "      <th>21</th>\n",
       "      <td>7.1</td>\n",
       "      <td>98273.0</td>\n",
       "    </tr>\n",
       "    <tr>\n",
       "      <th>22</th>\n",
       "      <td>7.9</td>\n",
       "      <td>101302.0</td>\n",
       "    </tr>\n",
       "    <tr>\n",
       "      <th>23</th>\n",
       "      <td>8.2</td>\n",
       "      <td>113812.0</td>\n",
       "    </tr>\n",
       "    <tr>\n",
       "      <th>24</th>\n",
       "      <td>8.7</td>\n",
       "      <td>109431.0</td>\n",
       "    </tr>\n",
       "    <tr>\n",
       "      <th>25</th>\n",
       "      <td>9.0</td>\n",
       "      <td>105582.0</td>\n",
       "    </tr>\n",
       "    <tr>\n",
       "      <th>26</th>\n",
       "      <td>9.5</td>\n",
       "      <td>116969.0</td>\n",
       "    </tr>\n",
       "    <tr>\n",
       "      <th>27</th>\n",
       "      <td>9.6</td>\n",
       "      <td>112635.0</td>\n",
       "    </tr>\n",
       "    <tr>\n",
       "      <th>28</th>\n",
       "      <td>10.3</td>\n",
       "      <td>122391.0</td>\n",
       "    </tr>\n",
       "    <tr>\n",
       "      <th>29</th>\n",
       "      <td>10.5</td>\n",
       "      <td>121872.0</td>\n",
       "    </tr>\n",
       "  </tbody>\n",
       "</table>\n",
       "</div>"
      ],
      "text/plain": [
       "    YearsExperience    Salary\n",
       "0               1.1   39343.0\n",
       "1               1.3   46205.0\n",
       "2               1.5   37731.0\n",
       "3               2.0   43525.0\n",
       "4               2.2   39891.0\n",
       "5               2.9   56642.0\n",
       "6               3.0   60150.0\n",
       "7               3.2   54445.0\n",
       "8               3.2   64445.0\n",
       "9               3.7   57189.0\n",
       "10              3.9   63218.0\n",
       "11              4.0   55794.0\n",
       "12              4.0   56957.0\n",
       "13              4.1   57081.0\n",
       "14              4.5   61111.0\n",
       "15              4.9   67938.0\n",
       "16              5.1   66029.0\n",
       "17              5.3   83088.0\n",
       "18              5.9   81363.0\n",
       "19              6.0   93940.0\n",
       "20              6.8   91738.0\n",
       "21              7.1   98273.0\n",
       "22              7.9  101302.0\n",
       "23              8.2  113812.0\n",
       "24              8.7  109431.0\n",
       "25              9.0  105582.0\n",
       "26              9.5  116969.0\n",
       "27              9.6  112635.0\n",
       "28             10.3  122391.0\n",
       "29             10.5  121872.0"
      ]
     },
     "execution_count": 109,
     "metadata": {},
     "output_type": "execute_result"
    }
   ],
   "source": [
    "data"
   ]
  },
  {
   "cell_type": "code",
   "execution_count": 110,
   "metadata": {},
   "outputs": [
    {
     "data": {
      "text/plain": [
       "YearsExperience    0\n",
       "Salary             0\n",
       "dtype: int64"
      ]
     },
     "execution_count": 110,
     "metadata": {},
     "output_type": "execute_result"
    }
   ],
   "source": [
    "data.isnull().sum()"
   ]
  },
  {
   "cell_type": "code",
   "execution_count": 111,
   "metadata": {},
   "outputs": [
    {
     "data": {
      "text/html": [
       "<div>\n",
       "<style scoped>\n",
       "    .dataframe tbody tr th:only-of-type {\n",
       "        vertical-align: middle;\n",
       "    }\n",
       "\n",
       "    .dataframe tbody tr th {\n",
       "        vertical-align: top;\n",
       "    }\n",
       "\n",
       "    .dataframe thead th {\n",
       "        text-align: right;\n",
       "    }\n",
       "</style>\n",
       "<table border=\"1\" class=\"dataframe\">\n",
       "  <thead>\n",
       "    <tr style=\"text-align: right;\">\n",
       "      <th></th>\n",
       "      <th>YearsExperience</th>\n",
       "      <th>Salary</th>\n",
       "    </tr>\n",
       "  </thead>\n",
       "  <tbody>\n",
       "    <tr>\n",
       "      <th>count</th>\n",
       "      <td>30.000000</td>\n",
       "      <td>30.000000</td>\n",
       "    </tr>\n",
       "    <tr>\n",
       "      <th>mean</th>\n",
       "      <td>5.313333</td>\n",
       "      <td>76003.000000</td>\n",
       "    </tr>\n",
       "    <tr>\n",
       "      <th>std</th>\n",
       "      <td>2.837888</td>\n",
       "      <td>27414.429785</td>\n",
       "    </tr>\n",
       "    <tr>\n",
       "      <th>min</th>\n",
       "      <td>1.100000</td>\n",
       "      <td>37731.000000</td>\n",
       "    </tr>\n",
       "    <tr>\n",
       "      <th>25%</th>\n",
       "      <td>3.200000</td>\n",
       "      <td>56720.750000</td>\n",
       "    </tr>\n",
       "    <tr>\n",
       "      <th>50%</th>\n",
       "      <td>4.700000</td>\n",
       "      <td>65237.000000</td>\n",
       "    </tr>\n",
       "    <tr>\n",
       "      <th>75%</th>\n",
       "      <td>7.700000</td>\n",
       "      <td>100544.750000</td>\n",
       "    </tr>\n",
       "    <tr>\n",
       "      <th>max</th>\n",
       "      <td>10.500000</td>\n",
       "      <td>122391.000000</td>\n",
       "    </tr>\n",
       "  </tbody>\n",
       "</table>\n",
       "</div>"
      ],
      "text/plain": [
       "       YearsExperience         Salary\n",
       "count        30.000000      30.000000\n",
       "mean          5.313333   76003.000000\n",
       "std           2.837888   27414.429785\n",
       "min           1.100000   37731.000000\n",
       "25%           3.200000   56720.750000\n",
       "50%           4.700000   65237.000000\n",
       "75%           7.700000  100544.750000\n",
       "max          10.500000  122391.000000"
      ]
     },
     "execution_count": 111,
     "metadata": {},
     "output_type": "execute_result"
    }
   ],
   "source": [
    "data.describe()"
   ]
  },
  {
   "cell_type": "code",
   "execution_count": 112,
   "metadata": {},
   "outputs": [
    {
     "name": "stdout",
     "output_type": "stream",
     "text": [
      "<class 'pandas.core.frame.DataFrame'>\n",
      "RangeIndex: 30 entries, 0 to 29\n",
      "Data columns (total 2 columns):\n",
      " #   Column           Non-Null Count  Dtype  \n",
      "---  ------           --------------  -----  \n",
      " 0   YearsExperience  30 non-null     float64\n",
      " 1   Salary           30 non-null     float64\n",
      "dtypes: float64(2)\n",
      "memory usage: 544.0 bytes\n"
     ]
    }
   ],
   "source": [
    "data.info()"
   ]
  },
  {
   "cell_type": "code",
   "execution_count": 113,
   "metadata": {},
   "outputs": [],
   "source": [
    "m=[]\n",
    "c=[]"
   ]
  },
  {
   "cell_type": "code",
   "execution_count": 114,
   "metadata": {},
   "outputs": [
    {
     "data": {
      "image/png": "[encoded data removed]",
      "text/plain": [
       "<Figure size 432x288 with 1 Axes>"
      ]
     },
     "metadata": {
      "needs_background": "light"
     },
     "output_type": "display_data"
    }
   ],
   "source": [
    "y=np.array(data['Salary'])\n",
    "x=np.array(data['YearsExperience'])\n",
    "plt.scatter(x,y)\n",
    "plt.show()"
   ]
  },
  {
   "cell_type": "code",
   "execution_count": 115,
   "metadata": {},
   "outputs": [],
   "source": [
    "import math\n",
    "intial_m=1.0\n",
    "intial_c=1.0\n",
    "rmse=[]"
   ]
  },
  {
   "cell_type": "code",
   "execution_count": 116,
   "metadata": {},
   "outputs": [],
   "source": [
    "def error(c_val,m_val):\n",
    "    s=0\n",
    "    for j,k in zip(x,y):\n",
    "        s=s+((k-(m_val*j+c_val))**2)\n",
    "    c.append(c_val)\n",
    "    m.append(m_val)\n",
    "    r=math.sqrt(s/len(x))\n",
    "    rmse.append(r)"
   ]
  },
  {
   "cell_type": "code",
   "execution_count": 117,
   "metadata": {},
   "outputs": [],
   "source": [
    "error(intial_c,intial_m)\n",
    "c_val=intial_c\n",
    "m_val=intial_m\n",
    "c_gradient=0.0\n",
    "m_gradient=0.0\n",
    "n=float(len(x))\n",
    "learningRate=0.0001"
   ]
  },
  {
   "cell_type": "code",
   "execution_count": 118,
   "metadata": {},
   "outputs": [],
   "source": [
    "for j in range(400):\n",
    "    cg=[]\n",
    "    mg=[]\n",
    "    for i in range(0,len(x)):\n",
    "        cg.append(((m_val * x[i]) + c_val)-y[i])\n",
    "        mg.append(x[i] * (((m_val * x) + c_val)-y[i]))\n",
    "    c_gradient=np.array(cg).sum()/n\n",
    "    m_gradient=np.array(mg).sum()/n      \n",
    "    c_val = c_val - (learningRate * c_gradient)\n",
    "    m_val = m_val - (learningRate * m_gradient)\n",
    "    error(c_val,m_val)"
   ]
  },
  {
   "cell_type": "code",
   "execution_count": 119,
   "metadata": {},
   "outputs": [],
   "source": [
    "min_val=rmse.index(min(rmse))"
   ]
  },
  {
   "cell_type": "code",
   "execution_count": 120,
   "metadata": {},
   "outputs": [
    {
     "data": {
      "text/plain": [
       "(13147.313709762298, 59.93521298470703)"
      ]
     },
     "execution_count": 120,
     "metadata": {},
     "output_type": "execute_result"
    }
   ],
   "source": [
    "m_val=m[min_val]\n",
    "c_val=c[min_val]\n",
    "m_val,c_val"
   ]
  },
  {
   "cell_type": "code",
   "execution_count": 121,
   "metadata": {},
   "outputs": [
    {
     "data": {
      "text/plain": [
       "[<matplotlib.lines.Line2D at 0xdef538>]"
      ]
     },
     "execution_count": 121,
     "metadata": {},
     "output_type": "execute_result"
    },
    {
     "data": {
      "image/png": "[encoded data removed]",
      "text/plain": [
       "<Figure size 432x288 with 1 Axes>"
      ]
     },
     "metadata": {
      "needs_background": "light"
     },
     "output_type": "display_data"
    }
   ],
   "source": [
    "plt.scatter(x,y)\n",
    "e=np.array(rmse)\n",
    "p=[]\n",
    "for i in range(0,len(x)):\n",
    "    p.append(m[min_val]*x[i]+c[min_val])\n",
    "plt.plot(x,p)"
   ]
  },
  {
   "cell_type": "markdown",
   "metadata": {},
   "source": [
    "salary for experience of 4.2 years"
   ]
  },
  {
   "cell_type": "code",
   "execution_count": 122,
   "metadata": {},
   "outputs": [
    {
     "data": {
      "text/plain": [
       "55278.652793986366"
      ]
     },
     "execution_count": 122,
     "metadata": {},
     "output_type": "execute_result"
    }
   ],
   "source": [
    "m_val*4.2+c_val"
   ]
  },
  {
   "cell_type": "markdown",
   "metadata": {},
   "source": [
    "salary for experience of 5.2 years"
   ]
  },
  {
   "cell_type": "code",
   "execution_count": 123,
   "metadata": {},
   "outputs": [
    {
     "data": {
      "text/plain": [
       "68425.96650374867"
      ]
     },
     "execution_count": 123,
     "metadata": {},
     "output_type": "execute_result"
    }
   ],
   "source": [
    "m_val*5.2+c_val"
   ]
  },
  {
   "cell_type": "markdown",
   "metadata": {},
   "source": [
    "### error rate graph"
   ]
  },
  {
   "cell_type": "code",
   "execution_count": 124,
   "metadata": {},
   "outputs": [
    {
     "data": {
      "text/plain": [
       "[<matplotlib.lines.Line2D at 0xe1f3e8>]"
      ]
     },
     "execution_count": 124,
     "metadata": {},
     "output_type": "execute_result"
    },
    {
     "data": {
      "image/png": "[encoded data removed]",
      "text/plain": [
       "<Figure size 432x288 with 1 Axes>"
      ]
     },
     "metadata": {
      "needs_background": "light"
     },
     "output_type": "display_data"
    }
   ],
   "source": [
    "plt.plot(rmse)"
   ]
  },
  {
   "cell_type": "markdown",
   "metadata": {},
   "source": [
    "2.  Find perfect model to predict brain weight from given dataset (datasets_56097_107686_headbrain). Train the model up to 15 iterations and visualize your results."
   ]
  },
  {
   "cell_type": "code",
   "execution_count": 159,
   "metadata": {},
   "outputs": [],
   "source": [
    "data2=pd.read_csv('headbrain.csv')"
   ]
  },
  {
   "cell_type": "code",
   "execution_count": 160,
   "metadata": {},
   "outputs": [
    {
     "data": {
      "text/html": [
       "<div>\n",
       "<style scoped>\n",
       "    .dataframe tbody tr th:only-of-type {\n",
       "        vertical-align: middle;\n",
       "    }\n",
       "\n",
       "    .dataframe tbody tr th {\n",
       "        vertical-align: top;\n",
       "    }\n",
       "\n",
       "    .dataframe thead th {\n",
       "        text-align: right;\n",
       "    }\n",
       "</style>\n",
       "<table border=\"1\" class=\"dataframe\">\n",
       "  <thead>\n",
       "    <tr style=\"text-align: right;\">\n",
       "      <th></th>\n",
       "      <th>Gender</th>\n",
       "      <th>Age Range</th>\n",
       "      <th>Head Size(cm^3)</th>\n",
       "      <th>Brain Weight(grams)</th>\n",
       "    </tr>\n",
       "  </thead>\n",
       "  <tbody>\n",
       "    <tr>\n",
       "      <th>0</th>\n",
       "      <td>1</td>\n",
       "      <td>1</td>\n",
       "      <td>4512</td>\n",
       "      <td>1530</td>\n",
       "    </tr>\n",
       "    <tr>\n",
       "      <th>1</th>\n",
       "      <td>1</td>\n",
       "      <td>1</td>\n",
       "      <td>3738</td>\n",
       "      <td>1297</td>\n",
       "    </tr>\n",
       "    <tr>\n",
       "      <th>2</th>\n",
       "      <td>1</td>\n",
       "      <td>1</td>\n",
       "      <td>4261</td>\n",
       "      <td>1335</td>\n",
       "    </tr>\n",
       "    <tr>\n",
       "      <th>3</th>\n",
       "      <td>1</td>\n",
       "      <td>1</td>\n",
       "      <td>3777</td>\n",
       "      <td>1282</td>\n",
       "    </tr>\n",
       "    <tr>\n",
       "      <th>4</th>\n",
       "      <td>1</td>\n",
       "      <td>1</td>\n",
       "      <td>4177</td>\n",
       "      <td>1590</td>\n",
       "    </tr>\n",
       "    <tr>\n",
       "      <th>...</th>\n",
       "      <td>...</td>\n",
       "      <td>...</td>\n",
       "      <td>...</td>\n",
       "      <td>...</td>\n",
       "    </tr>\n",
       "    <tr>\n",
       "      <th>232</th>\n",
       "      <td>2</td>\n",
       "      <td>2</td>\n",
       "      <td>3214</td>\n",
       "      <td>1110</td>\n",
       "    </tr>\n",
       "    <tr>\n",
       "      <th>233</th>\n",
       "      <td>2</td>\n",
       "      <td>2</td>\n",
       "      <td>3394</td>\n",
       "      <td>1215</td>\n",
       "    </tr>\n",
       "    <tr>\n",
       "      <th>234</th>\n",
       "      <td>2</td>\n",
       "      <td>2</td>\n",
       "      <td>3233</td>\n",
       "      <td>1104</td>\n",
       "    </tr>\n",
       "    <tr>\n",
       "      <th>235</th>\n",
       "      <td>2</td>\n",
       "      <td>2</td>\n",
       "      <td>3352</td>\n",
       "      <td>1170</td>\n",
       "    </tr>\n",
       "    <tr>\n",
       "      <th>236</th>\n",
       "      <td>2</td>\n",
       "      <td>2</td>\n",
       "      <td>3391</td>\n",
       "      <td>1120</td>\n",
       "    </tr>\n",
       "  </tbody>\n",
       "</table>\n",
       "<p>237 rows × 4 columns</p>\n",
       "</div>"
      ],
      "text/plain": [
       "     Gender  Age Range  Head Size(cm^3)  Brain Weight(grams)\n",
       "0         1          1             4512                 1530\n",
       "1         1          1             3738                 1297\n",
       "2         1          1             4261                 1335\n",
       "3         1          1             3777                 1282\n",
       "4         1          1             4177                 1590\n",
       "..      ...        ...              ...                  ...\n",
       "232       2          2             3214                 1110\n",
       "233       2          2             3394                 1215\n",
       "234       2          2             3233                 1104\n",
       "235       2          2             3352                 1170\n",
       "236       2          2             3391                 1120\n",
       "\n",
       "[237 rows x 4 columns]"
      ]
     },
     "execution_count": 160,
     "metadata": {},
     "output_type": "execute_result"
    }
   ],
   "source": [
    "data2"
   ]
  },
  {
   "cell_type": "code",
   "execution_count": 161,
   "metadata": {},
   "outputs": [
    {
     "data": {
      "text/html": [
       "<div>\n",
       "<style scoped>\n",
       "    .dataframe tbody tr th:only-of-type {\n",
       "        vertical-align: middle;\n",
       "    }\n",
       "\n",
       "    .dataframe tbody tr th {\n",
       "        vertical-align: top;\n",
       "    }\n",
       "\n",
       "    .dataframe thead th {\n",
       "        text-align: right;\n",
       "    }\n",
       "</style>\n",
       "<table border=\"1\" class=\"dataframe\">\n",
       "  <thead>\n",
       "    <tr style=\"text-align: right;\">\n",
       "      <th></th>\n",
       "      <th>w0</th>\n",
       "      <th>Gender</th>\n",
       "      <th>Age Range</th>\n",
       "      <th>Head Size(cm^3)</th>\n",
       "      <th>Brain Weight(grams)</th>\n",
       "    </tr>\n",
       "  </thead>\n",
       "  <tbody>\n",
       "    <tr>\n",
       "      <th>0</th>\n",
       "      <td>1</td>\n",
       "      <td>1</td>\n",
       "      <td>1</td>\n",
       "      <td>4512</td>\n",
       "      <td>1530</td>\n",
       "    </tr>\n",
       "    <tr>\n",
       "      <th>1</th>\n",
       "      <td>1</td>\n",
       "      <td>1</td>\n",
       "      <td>1</td>\n",
       "      <td>3738</td>\n",
       "      <td>1297</td>\n",
       "    </tr>\n",
       "    <tr>\n",
       "      <th>2</th>\n",
       "      <td>1</td>\n",
       "      <td>1</td>\n",
       "      <td>1</td>\n",
       "      <td>4261</td>\n",
       "      <td>1335</td>\n",
       "    </tr>\n",
       "    <tr>\n",
       "      <th>3</th>\n",
       "      <td>1</td>\n",
       "      <td>1</td>\n",
       "      <td>1</td>\n",
       "      <td>3777</td>\n",
       "      <td>1282</td>\n",
       "    </tr>\n",
       "    <tr>\n",
       "      <th>4</th>\n",
       "      <td>1</td>\n",
       "      <td>1</td>\n",
       "      <td>1</td>\n",
       "      <td>4177</td>\n",
       "      <td>1590</td>\n",
       "    </tr>\n",
       "    <tr>\n",
       "      <th>...</th>\n",
       "      <td>...</td>\n",
       "      <td>...</td>\n",
       "      <td>...</td>\n",
       "      <td>...</td>\n",
       "      <td>...</td>\n",
       "    </tr>\n",
       "    <tr>\n",
       "      <th>232</th>\n",
       "      <td>1</td>\n",
       "      <td>2</td>\n",
       "      <td>2</td>\n",
       "      <td>3214</td>\n",
       "      <td>1110</td>\n",
       "    </tr>\n",
       "    <tr>\n",
       "      <th>233</th>\n",
       "      <td>1</td>\n",
       "      <td>2</td>\n",
       "      <td>2</td>\n",
       "      <td>3394</td>\n",
       "      <td>1215</td>\n",
       "    </tr>\n",
       "    <tr>\n",
       "      <th>234</th>\n",
       "      <td>1</td>\n",
       "      <td>2</td>\n",
       "      <td>2</td>\n",
       "      <td>3233</td>\n",
       "      <td>1104</td>\n",
       "    </tr>\n",
       "    <tr>\n",
       "      <th>235</th>\n",
       "      <td>1</td>\n",
       "      <td>2</td>\n",
       "      <td>2</td>\n",
       "      <td>3352</td>\n",
       "      <td>1170</td>\n",
       "    </tr>\n",
       "    <tr>\n",
       "      <th>236</th>\n",
       "      <td>1</td>\n",
       "      <td>2</td>\n",
       "      <td>2</td>\n",
       "      <td>3391</td>\n",
       "      <td>1120</td>\n",
       "    </tr>\n",
       "  </tbody>\n",
       "</table>\n",
       "<p>237 rows × 5 columns</p>\n",
       "</div>"
      ],
      "text/plain": [
       "     w0  Gender  Age Range  Head Size(cm^3)  Brain Weight(grams)\n",
       "0     1       1          1             4512                 1530\n",
       "1     1       1          1             3738                 1297\n",
       "2     1       1          1             4261                 1335\n",
       "3     1       1          1             3777                 1282\n",
       "4     1       1          1             4177                 1590\n",
       "..   ..     ...        ...              ...                  ...\n",
       "232   1       2          2             3214                 1110\n",
       "233   1       2          2             3394                 1215\n",
       "234   1       2          2             3233                 1104\n",
       "235   1       2          2             3352                 1170\n",
       "236   1       2          2             3391                 1120\n",
       "\n",
       "[237 rows x 5 columns]"
      ]
     },
     "execution_count": 161,
     "metadata": {},
     "output_type": "execute_result"
    }
   ],
   "source": [
    "data2.insert(0,'w0',1)\n",
    "data2"
   ]
  },
  {
   "cell_type": "code",
   "execution_count": 165,
   "metadata": {},
   "outputs": [],
   "source": [
    "x=np.array(data2.iloc[:,:4])\n",
    "y=np.array(data2.iloc[:,4])\n",
    "import math\n",
    "intial_m=1.0\n",
    "intial_c=1.0\n",
    "rmse=[]"
   ]
  },
  {
   "cell_type": "code",
   "execution_count": 173,
   "metadata": {},
   "outputs": [],
   "source": [
    "m1=np.dot(x.T,x)\n",
    "m2=np.dot(x.T,y)\n",
    "m1=np.linalg.inv(m1)\n",
    "w=np.dot(m1,m2)"
   ]
  },
  {
   "cell_type": "code",
   "execution_count": 183,
   "metadata": {},
   "outputs": [
    {
     "data": {
      "text/plain": [
       "[<matplotlib.lines.Line2D at 0xd8148f8>]"
      ]
     },
     "execution_count": 183,
     "metadata": {},
     "output_type": "execute_result"
    },
    {
     "data": {
      "image/png": "[encoded data removed]",
      "text/plain": [
       "<Figure size 432x288 with 1 Axes>"
      ]
     },
     "metadata": {
      "needs_background": "light"
     },
     "output_type": "display_data"
    }
   ],
   "source": [
    "er=[]\n",
    "w_1=[]\n",
    "w_2=[]\n",
    "w_3=[]\n",
    "w_0=[]\n",
    "te=[]\n",
    "def compute_error(W0, W1, W2, W3, x1, x2, x3, y1):\n",
    "    totalError = 0\n",
    "    x1 = x1\n",
    "    x2 = x2\n",
    "    x3 = x3\n",
    "    y1 = y1\n",
    "    #print(c,m)\n",
    "    w_1.append(W1)\n",
    "    w_2.append(W2)\n",
    "    w_3.append(W3)\n",
    "    w_0.append(W0)\n",
    "    for i in range(0,len(x1)):\n",
    "        totalError+=(((W0+W1*x1[i]+W2*x2[i]+W3*x3[i])-y1[i]) ** 2)\n",
    "      #te.append(totalError)\n",
    "    #print(te)\n",
    "    #err=(np.array(te).sum())\n",
    "    er.append(totalError/len(x1))\n",
    "    #print(er)\n",
    "\n",
    "def step_gradient(w0_current, w1_current, w2_current, w3_current, x1, x2, x3, y1, learningRate):\n",
    "    w0_gradient = 0.0\n",
    "    w1_gradient = 0.0\n",
    "    w2_gradient = 0.0\n",
    "    w3_gradient = 0.0\n",
    "    N = float(len(x1))\n",
    "    x1 = x1\n",
    "    x2 = x2\n",
    "    x3 = x3\n",
    "    y1 = y1\n",
    "    wg0=[]\n",
    "    wg1=[]\n",
    "    wg2=[]\n",
    "    wg3=[]\n",
    "    for i in range(0,len(x1)):\n",
    "        wg0.append((w0_current+w1_current*x1[i]+w2_current*x2[i]+w3_current*x3[i])-y1[i])\n",
    "        wg1.append(x1[i] * ((w0_current+w1_current*x1[i]+w2_current*x2[i]+w3_current*x3[i])-y1[i]))\n",
    "        wg2.append(x2[i] * ((w0_current+w1_current*x1[i]+w2_current*x2[i]+w3_current*x3[i])-y1[i]))\n",
    "        wg3.append(x3[i] * ((w0_current+w1_current*x1[i]+w2_current*x2[i]+w3_current*x3[i])-y1[i]))\n",
    "    w0_gradient=(np.array(wg0).sum())/N\n",
    "    w1_gradient=(np.array(wg1).sum())/N\n",
    "    w2_gradient=(np.array(wg2).sum())/N\n",
    "    w3_gradient=(np.array(wg3).sum())/N\n",
    "    new_w0 = w0_current - (learningRate * w0_gradient)\n",
    "    new_w1 = w1_current - (learningRate * w1_gradient)\n",
    "    new_w2 = w2_current - (learningRate * w2_gradient)\n",
    "    new_w3 = w3_current - (learningRate * w3_gradient)\n",
    "    compute_error(new_w0,new_w1,new_w2,new_w3,x1,x2,x3,y1)\n",
    "    return [new_w0,new_w1,new_w2,new_w3]\n",
    "\n",
    "def gradient_descent_runner(x1, x2, x3, y1, starting_w0, starting_w1, starting_w2,starting_w3, learning_rate, num_iterations):\n",
    "    w0 = starting_w0\n",
    "    w1 = starting_w1\n",
    "    w2 = starting_w2\n",
    "    w3 = starting_w3\n",
    "    for i in range(num_iterations):\n",
    "        w0, w1, w2, w3 = step_gradient(w0, w1, w2, w3, x1, x2, x3, y1, learning_rate)\n",
    "        \n",
    "def run():\n",
    "    data = pd.read_csv('headbrain.csv')\n",
    "    z=[]\n",
    "    for x in data.columns:\n",
    "        z.append(x)\n",
    "    data=data[z].apply(lambda rec:(rec - rec.mean())/rec.std(), axis=0)\n",
    "    sn = data\n",
    "    x11=sn.iloc[:,0:1]\n",
    "    x22=sn.iloc[:,1:2]\n",
    "    x33=sn.iloc[:,2:3]\n",
    "    y11=sn.iloc[:,3:4]\n",
    "    x1=np.array(x11)\n",
    "    x2=np.array(x22)\n",
    "    x3=np.array(x33)\n",
    "    y1=np.array(y11)\n",
    "    learning_rate = 0.001\n",
    "    initial_w0 = 1 \n",
    "    initial_w1 = 1 \n",
    "    initial_w2 = 1\n",
    "    initial_w3 = 1\n",
    "    num_iterations = 5000\n",
    "    compute_error(initial_w0, initial_w1, initial_w2, initial_w3, x1, x2, x3, y1)\n",
    "    gradient_descent_runner(x1, x2, x3, y1, initial_w0, initial_w1, initial_w2,initial_w3, learning_rate, num_iterations)\n",
    "    \n",
    "\n",
    "\n",
    "run()\n",
    "it=np.arange(0,5001)\n",
    "#print(er)\n",
    "plt.plot(it,er)\n"
   ]
  },
  {
   "cell_type": "markdown",
   "metadata": {},
   "source": [
    "3.  Recall the heart dataset from canvas and built a logistic regression model for predicting heart attach based on the given features.(age ,sex, cp, trestbps, chol, fbs, restesg ,thalach ,exang, oldpeak, slope, ca , thal,)\n",
    "<br>Age 55\n",
    "<br>Sex 1 \n",
    "<br>Cp 2<br>\n",
    "Trestbps 144\n",
    "<br>Chol1Fbs 1 \n",
    "<br>thalach 145\n",
    "<br>Restesg 1\n",
    "<br>Exang 1\n",
    "<br>Oldpeak 2.4\n",
    "<br>Slope 2\n",
    "<br>Ca 0\n",
    "<br>thal 1\n",
    "<br>target"
   ]
  },
  {
   "cell_type": "code",
   "execution_count": 177,
   "metadata": {},
   "outputs": [
    {
     "name": "stdout",
     "output_type": "stream",
     "text": [
      "[-0.03163618264464116, -0.061763879723328294, -0.08952065639311396, -0.13046411531996674, -0.1481399989106705, -0.1470082222527363, -0.13237936128812128, -0.17257451302515175, -0.14476360269024785, -0.13083156262119153, -0.11289809211231615, -0.13146778226538933, -0.13516344509539996, -0.1558107485659836, -0.12417988555226848, -0.12201072632020356, -0.04418475796852986, -0.023953034101203186, -0.024918928256422286, 0.011152606948088803, 0.029526272752718515, 0.03085479296093109, 0.0664927930887759, 0.08473226946588937, 0.07510818397456155, 0.05560550653337489, 0.03426898916430698, 0.06284753053389669, 0.08613888650289965, 0.09472893854800875, 0.10980694591332826, 0.11345586252810087, 0.12102116270520094, 0.14815151154004116, 0.19447159686033988, 0.18076807757448782, 0.18495401297410874, 0.14491193961193272, 0.1250451686640133, 0.1244435481425696, 0.11047642004453151, 0.09683021391078364, 0.07933588980101805, 0.0883134768411452, 0.09904987183447476, 0.12462834922703726, 0.13063506699272873, 0.1625879412884427, 0.15469218747349014, 0.16680996125191597, 0.16128429547433584, 0.1689032773609087, 0.2472368276122473, 0.2383520557153863, 0.22084813653582117, 0.18586231191707894, 0.17659490425264013, 0.16884020018760004, 0.20139716108537978, 0.19167050865496887, 0.20073619009057722, 0.19483435996909237, 0.18412297648854953, 0.1995460913867466, 0.20912076083484696, 0.22388528630990812, 0.19536479114759742, 0.21125677952730573, 0.22712848066047478, 0.24589314072919158, 0.28407472963190145, 0.2769978527973584, 0.3384187235731266, 0.33071754888330007, 0.2745344554186723, 0.27178578665247005, 0.26721558857863015, 0.26233503099313266, 0.30408766620702565, 0.3037557503608066, 0.2978063134511279, 0.29415264811774233, 0.2926573859318025, 0.2794328955501456, 0.2773361508425889, 0.27639065115729444, 0.26877152375685837, 0.26717876921304357, 0.23697695910986696, 0.28179630547286, 0.2987771640262553, 0.2957488544401067, 0.24376347036383963, 0.24513733893590478, 0.2624928258533986, 0.2542266756961671, 0.27489303485227984, 0.2958618661301841, 0.2939704286778009, 0.2924756922980585]\n",
      "[1, 1, 1, 1, 1, 1, 1, 1, 1, 1, 1, 1, 1, 1]\n",
      "7\n"
     ]
    }
   ],
   "source": [
    "w_values=[]\n",
    "error_rate=[]\n",
    "\n",
    "def Linear(w):\n",
    "    data=pd.read_csv(\"heart.csv\")\n",
    "    data_x=data.iloc[:,0:13]\n",
    "    data_y=data.iloc[:,13]\n",
    "    data_x=data_x.apply(lambda rec:(rec-rec.mean())/rec.std(),axis=0)\n",
    "    data_x.insert(0,\"w0\",1)\n",
    "    x=np.array(data_x)\n",
    "    y=np.array(data_y)\n",
    "    y_predict=[]\n",
    "    for i in range(0,303):\n",
    "        c=0\n",
    "        for j in range(0,len(w)):\n",
    "          c+=w[j]*x[i][j]\n",
    "        y_predict.append(c)\n",
    "        w_values.append(w)\n",
    "  \n",
    "    y_f_x=[]\n",
    "    for i in range(0,303):\n",
    "        den=(1+math.exp(-y_predict[i]))\n",
    "        val=1/den\n",
    "        y_f_x.append(round(val,2))\n",
    "    j_theta=[]\n",
    "    for i in range(0,303):\n",
    "        if (y_f_x[i]!=0):\n",
    "            j_theta.append((y[i]*np.log2(y_f_x[i]))+(1-y[i])*(1-np.log2(y_f_x[i])))\n",
    "        else:\n",
    "            j_theta.append(0)\n",
    "  \n",
    "    j_t_sum=np.array(j_theta).mean()\n",
    "  # print(round(j_t_sum,3))\n",
    "    error_rate.append(j_t_sum)\n",
    "    y_grad=[]\n",
    "    for j in range(0,14):\n",
    "        x_g=0\n",
    "        for i in range(0,303):\n",
    "            x_g+=(x[i][j]*(y[i]-y_f_x[i]))\n",
    "        y_grad.append(x_g)\n",
    "    new_y=[]\n",
    "    for j in range(0,14):\n",
    "        new_y.append(round(w[j]-(0.1)*(1/303)*y_grad[j],4))\n",
    "  \n",
    "    return new_y\n",
    "\n",
    "w=[1,1,1,1,1,1,1,1,1,1,1,1,1,1]\n",
    "for i in range(100):\n",
    "    w=Linear(w)\n",
    "\n",
    "print(error_rate)\n",
    "z=np.array(error_rate).min()\n",
    "index=error_rate.index(z)\n",
    "print(w_values[index])\n",
    "print(index)"
   ]
  },
  {
   "cell_type": "code",
   "execution_count": 178,
   "metadata": {},
   "outputs": [
    {
     "data": {
      "text/plain": [
       "[<matplotlib.lines.Line2D at 0xd2e0b20>]"
      ]
     },
     "execution_count": 178,
     "metadata": {},
     "output_type": "execute_result"
    },
    {
     "data": {
      "image/png": "[encoded data removed]",
      "text/plain": [
       "<Figure size 432x288 with 1 Axes>"
      ]
     },
     "metadata": {
      "needs_background": "light"
     },
     "output_type": "display_data"
    }
   ],
   "source": [
    "iter=np.arange(100)\n",
    "plt.plot(iter,error_rate)"
   ]
  },
  {
   "cell_type": "code",
   "execution_count": null,
   "metadata": {},
   "outputs": [],
   "source": []
  }
 ],
 "metadata": {
  "kernelspec": {
   "display_name": "Python 3",
   "language": "python",
   "name": "python3"
  },
  "language_info": {
   "codemirror_mode": {
    "name": "ipython",
    "version": 3
   },
   "file_extension": ".py",
   "mimetype": "text/x-python",
   "name": "python",
   "nbconvert_exporter": "python",
   "pygments_lexer": "ipython3",
   "version": "3.8.2"
  }
 },
 "nbformat": 4,
 "nbformat_minor": 4
}
