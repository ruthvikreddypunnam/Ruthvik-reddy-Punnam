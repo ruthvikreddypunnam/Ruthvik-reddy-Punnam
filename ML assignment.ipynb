{
 "cells": [
  {
   "cell_type": "code",
   "execution_count": 34,
   "id": "22d9bd56",
   "metadata": {},
   "outputs": [],
   "source": [
    "import pandas as pd\n",
    "import numpy as np\n",
    "import cv2\n",
    "import matplotlib.pyplot as plt\n",
    "import tensorflow as tf\n",
    "from tensorflow.keras import datasets,layers,models"
   ]
  },
  {
   "cell_type": "markdown",
   "id": "5d5d5bf5",
   "metadata": {},
   "source": [
    "### Labeling"
   ]
  },
  {
   "cell_type": "code",
   "execution_count": 37,
   "id": "54269798",
   "metadata": {},
   "outputs": [],
   "source": [
    "import re\n",
    "def my_label(image_name):\n",
    "    name=re.split('[-.]+',image_name)\n",
    "    name=name[-3]\n",
    "    if name in classes:\n",
    "        return classes.index(name)\n",
    "    else:\n",
    "        classes.append(name)\n",
    "        return classes.index(name)"
   ]
  },
  {
   "cell_type": "markdown",
   "id": "c9ace2b4",
   "metadata": {},
   "source": [
    "### Data"
   ]
  },
  {
   "cell_type": "code",
   "execution_count": 4,
   "id": "b6f462cc",
   "metadata": {},
   "outputs": [],
   "source": [
    "import os\n",
    "from random import shuffle\n",
    "from tqdm import tqdm"
   ]
  },
  {
   "cell_type": "code",
   "execution_count": 5,
   "id": "e81d40fb",
   "metadata": {},
   "outputs": [],
   "source": [
    "def my_data():\n",
    "    data=[]\n",
    "    for folder in tqdm(os.listdir(\"images\")):\n",
    "        t_path=os.path.join(\"images\"+\"//\"+folder)\n",
    "        for img in tqdm(os.listdir(\"images\"+\"//\"+folder)):\n",
    "            path=os.path.join(t_path,img)\n",
    "            img_data=cv2.imread(path)\n",
    "            img_data=cv2.resize(img_data,(50,50))\n",
    "            data.append([np.array(img_data),my_label(img)])\n",
    "    shuffle(data)\n",
    "    return data    "
   ]
  },
  {
   "cell_type": "code",
   "execution_count": 38,
   "id": "e2a31b7b",
   "metadata": {},
   "outputs": [
    {
     "name": "stderr",
     "output_type": "stream",
     "text": [
      "  0%|                                                                                            | 0/4 [00:00<?, ?it/s]\n",
      "  0%|                                                                                          | 0/202 [00:00<?, ?it/s]\u001b[A\n",
      "  7%|█████▉                                                                          | 15/202 [00:00<00:01, 130.24it/s]\u001b[A\n",
      " 22%|█████████████████▍                                                              | 44/202 [00:00<00:00, 217.07it/s]\u001b[A\n",
      " 38%|██████████████████████████████▍                                                 | 77/202 [00:00<00:00, 249.49it/s]\u001b[A\n",
      " 53%|██████████████████████████████████████████▏                                    | 108/202 [00:00<00:00, 271.60it/s]\u001b[A\n",
      " 73%|█████████████████████████████████████████████████████████▍                     | 147/202 [00:00<00:00, 312.46it/s]\u001b[A\n",
      "100%|███████████████████████████████████████████████████████████████████████████████| 202/202 [00:00<00:00, 295.51it/s]\u001b[A\n",
      " 25%|█████████████████████                                                               | 1/4 [00:00<00:02,  1.40it/s]\n",
      "  0%|                                                                                          | 0/202 [00:00<?, ?it/s]\u001b[A\n",
      " 23%|██████████████████▏                                                             | 46/202 [00:00<00:00, 400.92it/s]\u001b[A\n",
      " 45%|████████████████████████████████████                                            | 91/202 [00:00<00:00, 394.14it/s]\u001b[A\n",
      " 65%|███████████████████████████████████████████████████▏                           | 131/202 [00:00<00:00, 390.23it/s]\u001b[A\n",
      "100%|███████████████████████████████████████████████████████████████████████████████| 202/202 [00:00<00:00, 381.18it/s]\u001b[A\n",
      " 50%|██████████████████████████████████████████                                          | 2/4 [00:01<00:01,  1.62it/s]\n",
      "  0%|                                                                                          | 0/202 [00:00<?, ?it/s]\u001b[A\n",
      " 28%|██████████████████████▌                                                         | 57/202 [00:00<00:00, 451.85it/s]\u001b[A\n",
      " 51%|████████████████████████████████████████▎                                      | 103/202 [00:00<00:00, 421.25it/s]\u001b[A\n",
      " 72%|█████████████████████████████████████████████████████████                      | 146/202 [00:00<00:00, 399.95it/s]\u001b[A\n",
      "100%|███████████████████████████████████████████████████████████████████████████████| 202/202 [00:00<00:00, 435.99it/s]\u001b[A\n",
      " 75%|███████████████████████████████████████████████████████████████                     | 3/4 [00:01<00:00,  1.82it/s]\n",
      "  0%|                                                                                          | 0/202 [00:00<?, ?it/s]\u001b[A\n",
      " 33%|██████████████████████████▌                                                     | 67/202 [00:00<00:00, 655.82it/s]\u001b[A\n",
      " 66%|████████████████████████████████████████████████████                           | 133/202 [00:00<00:00, 429.51it/s]\u001b[A\n",
      "100%|███████████████████████████████████████████████████████████████████████████████| 202/202 [00:00<00:00, 493.58it/s]\u001b[A\n",
      "100%|████████████████████████████████████████████████████████████████████████████████████| 4/4 [00:02<00:00,  1.86it/s]\n"
     ]
    }
   ],
   "source": [
    "classes=[]\n",
    "data=my_data()"
   ]
  },
  {
   "cell_type": "code",
   "execution_count": 39,
   "id": "bb6f7910",
   "metadata": {},
   "outputs": [
    {
     "data": {
      "text/plain": [
       "['cat', 'dog', 'horse', 'rider']"
      ]
     },
     "execution_count": 39,
     "metadata": {},
     "output_type": "execute_result"
    }
   ],
   "source": [
    "classes"
   ]
  },
  {
   "cell_type": "code",
   "execution_count": 40,
   "id": "fbf4c253",
   "metadata": {},
   "outputs": [],
   "source": [
    "def plot_sample(x,y,index):\n",
    "    plt.figure(figsize=(15,2))\n",
    "    plt.imshow(x[index])\n",
    "    plt.xlabel(classes[y[index]])"
   ]
  },
  {
   "cell_type": "code",
   "execution_count": 41,
   "id": "19a4b91d",
   "metadata": {},
   "outputs": [],
   "source": [
    "x=np.array([a[0] for a in data]).reshape(-1,50,50,3)\n",
    "y=np.array([a[1] for a in data])\n",
    "from sklearn.model_selection import train_test_split\n",
    "x_train,x_test,y_train,y_test=train_test_split(x,y,test_size=0.20)"
   ]
  },
  {
   "cell_type": "code",
   "execution_count": 42,
   "id": "74c25175",
   "metadata": {},
   "outputs": [
    {
     "data": {
      "image/png": "[encoded data removed]",
      "text/plain": [
       "<Figure size 1080x144 with 1 Axes>"
      ]
     },
     "metadata": {
      "needs_background": "light"
     },
     "output_type": "display_data"
    }
   ],
   "source": [
    "plot_sample(x_train,y_train,2)"
   ]
  },
  {
   "cell_type": "code",
   "execution_count": 50,
   "id": "15680550",
   "metadata": {},
   "outputs": [
    {
     "name": "stdout",
     "output_type": "stream",
     "text": [
      "(808, 50, 50, 3)\n"
     ]
    }
   ],
   "source": [
    "#Normalizing the pixels of images\n",
    "x_train=x_train/255.0\n",
    "x_test=x_test/255.0"
   ]
  },
  {
   "cell_type": "markdown",
   "id": "27d9a98f",
   "metadata": {},
   "source": [
    "### Artificial Neural Networks"
   ]
  },
  {
   "cell_type": "code",
   "execution_count": 45,
   "id": "588aa5c2",
   "metadata": {},
   "outputs": [],
   "source": [
    "ann=models.Sequential([\n",
    "    layers.Flatten(input_shape=[50,50,3]),\n",
    "    layers.Dense(30,activation='relu'),\n",
    "    layers.Dense(100,activation='relu'),\n",
    "    layers.Dense(10,activation='sigmoid')\n",
    "])\n",
    "ann.compile(optimizer='SGD',\n",
    "            loss='sparse_categorical_crossentropy',\n",
    "            metrics=['accuracy'])"
   ]
  },
  {
   "cell_type": "code",
   "execution_count": 22,
   "id": "7d946703",
   "metadata": {},
   "outputs": [
    {
     "name": "stdout",
     "output_type": "stream",
     "text": [
      "Epoch 1/5\n",
      "21/21 [==============================] - 1s 3ms/step - loss: 1.7911 - accuracy: 0.2198\n",
      "Epoch 2/5\n",
      "21/21 [==============================] - 0s 3ms/step - loss: 1.5216 - accuracy: 0.2430\n",
      "Epoch 3/5\n",
      "21/21 [==============================] - 0s 3ms/step - loss: 1.3776 - accuracy: 0.3050\n",
      "Epoch 4/5\n",
      "21/21 [==============================] - 0s 2ms/step - loss: 1.4595 - accuracy: 0.3235\n",
      "Epoch 5/5\n",
      "21/21 [==============================] - 0s 2ms/step - loss: 1.3470 - accuracy: 0.3669\n"
     ]
    },
    {
     "data": {
      "text/plain": [
       "<keras.callbacks.History at 0x229aabbcfa0>"
      ]
     },
     "execution_count": 22,
     "metadata": {},
     "output_type": "execute_result"
    }
   ],
   "source": [
    "ann.fit(x_train,y_train,epochs=5)"
   ]
  },
  {
   "cell_type": "code",
   "execution_count": 23,
   "id": "41eff6ff",
   "metadata": {},
   "outputs": [
    {
     "name": "stdout",
     "output_type": "stream",
     "text": [
      "6/6 [==============================] - 0s 4ms/step - loss: 1.2666 - accuracy: 0.4321\n"
     ]
    },
    {
     "data": {
      "text/plain": [
       "[1.2665565013885498, 0.43209877610206604]"
      ]
     },
     "execution_count": 23,
     "metadata": {},
     "output_type": "execute_result"
    }
   ],
   "source": [
    "ann.evaluate(x_test,y_test)"
   ]
  },
  {
   "cell_type": "code",
   "execution_count": 24,
   "id": "616b7452",
   "metadata": {},
   "outputs": [
    {
     "name": "stdout",
     "output_type": "stream",
     "text": [
      "              precision    recall  f1-score   support\n",
      "\n",
      "           0       0.33      0.59      0.43        37\n",
      "           1       0.00      0.00      0.00        36\n",
      "           2       0.47      0.79      0.59        52\n",
      "           3       0.88      0.19      0.31        37\n",
      "\n",
      "    accuracy                           0.43       162\n",
      "   macro avg       0.42      0.39      0.33       162\n",
      "weighted avg       0.43      0.43      0.36       162\n",
      "\n"
     ]
    }
   ],
   "source": [
    "from sklearn.metrics import classification_report,confusion_matrix\n",
    "import numpy as np\n",
    "y_pred=ann.predict(x_test)\n",
    "y_pred_classes=[np.argmax(element) for element in y_pred]\n",
    "print(classification_report(y_test,y_pred_classes))"
   ]
  },
  {
   "cell_type": "markdown",
   "id": "41fc516a",
   "metadata": {},
   "source": [
    "### SVM"
   ]
  },
  {
   "cell_type": "code",
   "execution_count": 52,
   "id": "76b34bdf",
   "metadata": {},
   "outputs": [],
   "source": [
    "x= x.reshape(len(x),-1)\n",
    "x_train,x_test,y_train,y_test=train_test_split(x,y,test_size=0.20)"
   ]
  },
  {
   "cell_type": "code",
   "execution_count": 54,
   "id": "25c3e72f",
   "metadata": {},
   "outputs": [
    {
     "data": {
      "text/plain": [
       "SVC(probability=True, random_state=42)"
      ]
     },
     "execution_count": 54,
     "metadata": {},
     "output_type": "execute_result"
    }
   ],
   "source": [
    "from sklearn import svm\n",
    "svm = svm.SVC(kernel='rbf', probability=True, random_state=42)\n",
    "\n",
    "# fit model\n",
    "svm.fit(x_train, y_train)"
   ]
  },
  {
   "cell_type": "code",
   "execution_count": 57,
   "id": "c435515e",
   "metadata": {},
   "outputs": [
    {
     "name": "stdout",
     "output_type": "stream",
     "text": [
      "              precision    recall  f1-score   support\n",
      "\n",
      "           0       0.40      0.40      0.40        35\n",
      "           1       0.41      0.49      0.45        39\n",
      "           2       0.70      0.78      0.74        41\n",
      "           3       0.69      0.51      0.59        47\n",
      "\n",
      "    accuracy                           0.55       162\n",
      "   macro avg       0.55      0.54      0.54       162\n",
      "weighted avg       0.56      0.55      0.55       162\n",
      "\n"
     ]
    }
   ],
   "source": [
    "y_pred = svm.predict(x_test)\n",
    "print(classification_report(y_test,y_pred))"
   ]
  },
  {
   "cell_type": "code",
   "execution_count": 62,
   "id": "457fe024",
   "metadata": {},
   "outputs": [
    {
     "data": {
      "text/plain": [
       "SVC(kernel='poly', probability=True, random_state=42)"
      ]
     },
     "execution_count": 62,
     "metadata": {},
     "output_type": "execute_result"
    }
   ],
   "source": [
    "from sklearn import svm\n",
    "svm = svm.SVC(kernel='poly', probability=True, random_state=42)\n",
    "\n",
    "# fit model\n",
    "svm.fit(x_train, y_train)"
   ]
  },
  {
   "cell_type": "code",
   "execution_count": 63,
   "id": "8f55e62a",
   "metadata": {},
   "outputs": [
    {
     "name": "stdout",
     "output_type": "stream",
     "text": [
      "              precision    recall  f1-score   support\n",
      "\n",
      "           0       0.31      0.51      0.39        35\n",
      "           1       0.38      0.41      0.40        39\n",
      "           2       0.75      0.66      0.70        41\n",
      "           3       0.69      0.38      0.49        47\n",
      "\n",
      "    accuracy                           0.49       162\n",
      "   macro avg       0.53      0.49      0.49       162\n",
      "weighted avg       0.55      0.49      0.50       162\n",
      "\n"
     ]
    }
   ],
   "source": [
    "y_pred = svm.predict(x_test)\n",
    "print(classification_report(y_test,y_pred))"
   ]
  },
  {
   "cell_type": "code",
   "execution_count": null,
   "id": "a160c6fa",
   "metadata": {},
   "outputs": [],
   "source": []
  }
 ],
 "metadata": {
  "kernelspec": {
   "display_name": "Python 3 (ipykernel)",
   "language": "python",
   "name": "python3"
  },
  "language_info": {
   "codemirror_mode": {
    "name": "ipython",
    "version": 3
   },
   "file_extension": ".py",
   "mimetype": "text/x-python",
   "name": "python",
   "nbconvert_exporter": "python",
   "pygments_lexer": "ipython3",
   "version": "3.9.6"
  }
 },
 "nbformat": 4,
 "nbformat_minor": 5
}
