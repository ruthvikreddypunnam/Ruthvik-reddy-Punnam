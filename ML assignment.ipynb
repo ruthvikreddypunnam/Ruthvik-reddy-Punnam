{
 "cells": [
  {
   "cell_type": "code",
   "execution_count": 1,
   "id": "22d9bd56",
   "metadata": {},
   "outputs": [],
   "source": [
    "import pandas as pd\n",
    "import numpy as np\n",
    "import cv2\n",
    "import matplotlib.pyplot as plt\n",
    "import tensorflow as tf\n",
    "from tensorflow.keras import datasets,layers,models"
   ]
  },
  {
   "cell_type": "markdown",
   "id": "25a445bc",
   "metadata": {},
   "source": [
    "### Labeling"
   ]
  },
  {
   "cell_type": "code",
   "execution_count": 2,
   "id": "54269798",
   "metadata": {},
   "outputs": [],
   "source": [
    "import re\n",
    "def my_label(image_name):\n",
    "    name=re.split('[-.]+',image_name)\n",
    "    name=name[-3]\n",
    "    if name in classes:\n",
    "        return classes.index(name)\n",
    "    else:\n",
    "        classes.append(name)\n",
    "        return classes.index(name)"
   ]
  },
  {
   "cell_type": "markdown",
   "id": "b6aa18c6",
   "metadata": {},
   "source": [
    "### Data"
   ]
  },
  {
   "cell_type": "code",
   "execution_count": 3,
   "id": "b6f462cc",
   "metadata": {},
   "outputs": [],
   "source": [
    "import os\n",
    "from random import shuffle\n",
    "from tqdm import tqdm"
   ]
  },
  {
   "cell_type": "code",
   "execution_count": 4,
   "id": "e81d40fb",
   "metadata": {},
   "outputs": [],
   "source": [
    "def my_data():\n",
    "    data=[]\n",
    "    for folder in tqdm(os.listdir(\"images\")):\n",
    "        t_path=os.path.join(\"images\"+\"//\"+folder)\n",
    "        for img in tqdm(os.listdir(\"images\"+\"//\"+folder)):\n",
    "            path=os.path.join(t_path,img)\n",
    "            img_data=cv2.imread(path)\n",
    "            img_data=cv2.resize(img_data,(50,50))\n",
    "            data.append([np.array(img_data),my_label(img)])\n",
    "    shuffle(data)\n",
    "    return data    "
   ]
  },
  {
   "cell_type": "code",
   "execution_count": 5,
   "id": "e2a31b7b",
   "metadata": {},
   "outputs": [
    {
     "name": "stderr",
     "output_type": "stream",
     "text": [
      "  0%|                                                                                            | 0/4 [00:00<?, ?it/s]\n",
      "  0%|                                                                                          | 0/202 [00:00<?, ?it/s]\u001b[A\n",
      " 27%|█████████████████████▊                                                          | 55/202 [00:00<00:00, 548.51it/s]\u001b[A\n",
      " 56%|████████████████████████████████████████████▏                                  | 113/202 [00:00<00:00, 552.94it/s]\u001b[A\n",
      "100%|███████████████████████████████████████████████████████████████████████████████| 202/202 [00:00<00:00, 526.42it/s]\u001b[A\n",
      " 25%|█████████████████████                                                               | 1/4 [00:00<00:01,  2.59it/s]\n",
      "  0%|                                                                                          | 0/202 [00:00<?, ?it/s]\u001b[A\n",
      " 27%|█████████████████████▍                                                          | 54/202 [00:00<00:00, 534.94it/s]\u001b[A\n",
      " 57%|█████████████████████████████████████████████▎                                 | 116/202 [00:00<00:00, 541.01it/s]\u001b[A\n",
      "100%|███████████████████████████████████████████████████████████████████████████████| 202/202 [00:00<00:00, 532.35it/s]\u001b[A\n",
      " 50%|██████████████████████████████████████████                                          | 2/4 [00:00<00:00,  2.59it/s]\n",
      "  0%|                                                                                          | 0/202 [00:00<?, ?it/s]\u001b[A\n",
      " 34%|██████████████████████████▉                                                     | 68/202 [00:00<00:00, 608.98it/s]\u001b[A\n",
      "100%|███████████████████████████████████████████████████████████████████████████████| 202/202 [00:00<00:00, 642.10it/s]\u001b[A\n",
      " 75%|███████████████████████████████████████████████████████████████                     | 3/4 [00:01<00:00,  2.81it/s]\n",
      "  0%|                                                                                          | 0/202 [00:00<?, ?it/s]\u001b[A\n",
      "100%|███████████████████████████████████████████████████████████████████████████████| 202/202 [00:00<00:00, 810.92it/s]\u001b[A\n",
      "100%|████████████████████████████████████████████████████████████████████████████████████| 4/4 [00:01<00:00,  2.94it/s]\n"
     ]
    }
   ],
   "source": [
    "classes=[]\n",
    "data=my_data()"
   ]
  },
  {
   "cell_type": "code",
   "execution_count": 6,
   "id": "bb6f7910",
   "metadata": {},
   "outputs": [
    {
     "data": {
      "text/plain": [
       "['cat', 'dog', 'horse', 'rider']"
      ]
     },
     "execution_count": 6,
     "metadata": {},
     "output_type": "execute_result"
    }
   ],
   "source": [
    "classes"
   ]
  },
  {
   "cell_type": "code",
   "execution_count": 7,
   "id": "fbf4c253",
   "metadata": {},
   "outputs": [],
   "source": [
    "def plot_sample(x,y,index):\n",
    "    plt.figure(figsize=(15,2))\n",
    "    plt.imshow(x[index])\n",
    "    plt.xlabel(classes[y[index]])"
   ]
  },
  {
   "cell_type": "code",
   "execution_count": 8,
   "id": "19a4b91d",
   "metadata": {},
   "outputs": [],
   "source": [
    "x=np.array([a[0] for a in data]).reshape(-1,50,50,3)\n",
    "y=np.array([a[1] for a in data])\n",
    "from sklearn.model_selection import train_test_split\n",
    "x_train,x_test,y_train,y_test=train_test_split(x,y,test_size=0.20)"
   ]
  },
  {
   "cell_type": "code",
   "execution_count": 9,
   "id": "74c25175",
   "metadata": {},
   "outputs": [
    {
     "data": {
      "image/png": "[encoded data removed]",
      "text/plain": [
       "<Figure size 1080x144 with 1 Axes>"
      ]
     },
     "metadata": {
      "needs_background": "light"
     },
     "output_type": "display_data"
    }
   ],
   "source": [
    "plot_sample(x_train,y_train,2)"
   ]
  },
  {
   "cell_type": "code",
   "execution_count": 10,
   "id": "15680550",
   "metadata": {},
   "outputs": [],
   "source": [
    "#Normalizing the pixels of images\n",
    "x_train=x_train/255.0\n",
    "x_test=x_test/255.0"
   ]
  },
  {
   "cell_type": "markdown",
   "id": "27d9a98f",
   "metadata": {},
   "source": [
    "### Artificial Neural Networks"
   ]
  },
  {
   "cell_type": "code",
   "execution_count": 11,
   "id": "588aa5c2",
   "metadata": {},
   "outputs": [],
   "source": [
    "ann=models.Sequential([\n",
    "    layers.Flatten(input_shape=[50,50,3]),\n",
    "    layers.Dense(30,activation='relu'),\n",
    "    layers.Dense(100,activation='relu'),\n",
    "    layers.Dense(10,activation='sigmoid')\n",
    "])\n",
    "ann.compile(optimizer='SGD',\n",
    "            loss='sparse_categorical_crossentropy',\n",
    "            metrics=['accuracy'])"
   ]
  },
  {
   "cell_type": "code",
   "execution_count": 12,
   "id": "7d946703",
   "metadata": {},
   "outputs": [
    {
     "name": "stdout",
     "output_type": "stream",
     "text": [
      "Epoch 1/10\n",
      "21/21 [==============================] - 0s 3ms/step - loss: 1.6372 - accuracy: 0.2771\n",
      "Epoch 2/10\n",
      "21/21 [==============================] - 0s 3ms/step - loss: 1.4176 - accuracy: 0.2988\n",
      "Epoch 3/10\n",
      "21/21 [==============================] - 0s 2ms/step - loss: 1.3666 - accuracy: 0.3529\n",
      "Epoch 4/10\n",
      "21/21 [==============================] - 0s 2ms/step - loss: 1.3289 - accuracy: 0.3777\n",
      "Epoch 5/10\n",
      "21/21 [==============================] - 0s 2ms/step - loss: 1.3599 - accuracy: 0.3978\n",
      "Epoch 6/10\n",
      "21/21 [==============================] - 0s 2ms/step - loss: 1.2835 - accuracy: 0.4102\n",
      "Epoch 7/10\n",
      "21/21 [==============================] - 0s 2ms/step - loss: 1.2819 - accuracy: 0.4118\n",
      "Epoch 8/10\n",
      "21/21 [==============================] - 0s 2ms/step - loss: 1.2130 - accuracy: 0.4443\n",
      "Epoch 9/10\n",
      "21/21 [==============================] - 0s 2ms/step - loss: 1.2426 - accuracy: 0.4396\n",
      "Epoch 10/10\n",
      "21/21 [==============================] - 0s 2ms/step - loss: 1.1782 - accuracy: 0.4954\n"
     ]
    },
    {
     "data": {
      "text/plain": [
       "<keras.callbacks.History at 0x1c699863970>"
      ]
     },
     "execution_count": 12,
     "metadata": {},
     "output_type": "execute_result"
    }
   ],
   "source": [
    "ann.fit(x_train,y_train,epochs=10)"
   ]
  },
  {
   "cell_type": "code",
   "execution_count": 13,
   "id": "41eff6ff",
   "metadata": {},
   "outputs": [
    {
     "name": "stdout",
     "output_type": "stream",
     "text": [
      "6/6 [==============================] - 0s 4ms/step - loss: 1.2064 - accuracy: 0.4753\n"
     ]
    },
    {
     "data": {
      "text/plain": [
       "[1.206413745880127, 0.4753086566925049]"
      ]
     },
     "execution_count": 13,
     "metadata": {},
     "output_type": "execute_result"
    }
   ],
   "source": [
    "ann.evaluate(x_test,y_test)"
   ]
  },
  {
   "cell_type": "code",
   "execution_count": 14,
   "id": "616b7452",
   "metadata": {},
   "outputs": [
    {
     "name": "stdout",
     "output_type": "stream",
     "text": [
      "              precision    recall  f1-score   support\n",
      "\n",
      "           0       0.58      0.15      0.23        48\n",
      "           1       0.34      0.56      0.43        36\n",
      "           2       0.56      0.76      0.64        33\n",
      "           3       0.53      0.56      0.54        45\n",
      "\n",
      "    accuracy                           0.48       162\n",
      "   macro avg       0.50      0.50      0.46       162\n",
      "weighted avg       0.51      0.48      0.45       162\n",
      "\n"
     ]
    }
   ],
   "source": [
    "from sklearn.metrics import classification_report,confusion_matrix\n",
    "import numpy as np\n",
    "y_pred=ann.predict(x_test)\n",
    "y_pred_classes=[np.argmax(element) for element in y_pred]\n",
    "print(classification_report(y_test,y_pred_classes))"
   ]
  },
  {
   "cell_type": "markdown",
   "id": "41fc516a",
   "metadata": {},
   "source": [
    "### SVM"
   ]
  },
  {
   "cell_type": "code",
   "execution_count": 15,
   "id": "f785445f",
   "metadata": {},
   "outputs": [],
   "source": [
    "x= x.reshape(len(x),-1)\n",
    "x_train,x_test,y_train,y_test=train_test_split(x,y,test_size=0.20)"
   ]
  },
  {
   "cell_type": "code",
   "execution_count": 16,
   "id": "25c3e72f",
   "metadata": {},
   "outputs": [
    {
     "data": {
      "text/plain": [
       "SVC(probability=True, random_state=42)"
      ]
     },
     "execution_count": 16,
     "metadata": {},
     "output_type": "execute_result"
    }
   ],
   "source": [
    "from sklearn import svm\n",
    "svm = svm.SVC(kernel='rbf', probability=True, random_state=42)\n",
    "\n",
    "# fit model\n",
    "svm.fit(x_train, y_train)"
   ]
  },
  {
   "cell_type": "code",
   "execution_count": 17,
   "id": "c435515e",
   "metadata": {},
   "outputs": [
    {
     "name": "stdout",
     "output_type": "stream",
     "text": [
      "              precision    recall  f1-score   support\n",
      "\n",
      "           0       0.55      0.38      0.45        42\n",
      "           1       0.53      0.61      0.57        49\n",
      "           2       0.76      0.79      0.78        33\n",
      "           3       0.64      0.71      0.67        38\n",
      "\n",
      "    accuracy                           0.61       162\n",
      "   macro avg       0.62      0.62      0.62       162\n",
      "weighted avg       0.61      0.61      0.60       162\n",
      "\n"
     ]
    }
   ],
   "source": [
    "y_pred = svm.predict(x_test)\n",
    "print(classification_report(y_test,y_pred))"
   ]
  },
  {
   "cell_type": "code",
   "execution_count": 18,
   "id": "b7bf9c81",
   "metadata": {},
   "outputs": [
    {
     "data": {
      "text/plain": [
       "SVC(kernel='poly', probability=True, random_state=42)"
      ]
     },
     "execution_count": 18,
     "metadata": {},
     "output_type": "execute_result"
    }
   ],
   "source": [
    "from sklearn import svm\n",
    "svm = svm.SVC(kernel='poly', probability=True, random_state=42)\n",
    "\n",
    "# fit model\n",
    "svm.fit(x_train, y_train)"
   ]
  },
  {
   "cell_type": "code",
   "execution_count": 19,
   "id": "a6e4381d",
   "metadata": {},
   "outputs": [
    {
     "name": "stdout",
     "output_type": "stream",
     "text": [
      "              precision    recall  f1-score   support\n",
      "\n",
      "           0       0.44      0.62      0.51        42\n",
      "           1       0.47      0.45      0.46        49\n",
      "           2       0.74      0.70      0.72        33\n",
      "           3       0.72      0.47      0.57        38\n",
      "\n",
      "    accuracy                           0.55       162\n",
      "   macro avg       0.59      0.56      0.57       162\n",
      "weighted avg       0.58      0.55      0.55       162\n",
      "\n"
     ]
    }
   ],
   "source": [
    "y_pred = svm.predict(x_test)\n",
    "print(classification_report(y_test,y_pred))"
   ]
  },
  {
   "cell_type": "code",
   "execution_count": null,
   "id": "98aa31b1",
   "metadata": {},
   "outputs": [],
   "source": []
  }
 ],
 "metadata": {
  "kernelspec": {
   "display_name": "Python 3 (ipykernel)",
   "language": "python",
   "name": "python3"
  },
  "language_info": {
   "codemirror_mode": {
    "name": "ipython",
    "version": 3
   },
   "file_extension": ".py",
   "mimetype": "text/x-python",
   "name": "python",
   "nbconvert_exporter": "python",
   "pygments_lexer": "ipython3",
   "version": "3.9.6"
  }
 },
 "nbformat": 4,
 "nbformat_minor": 5
}
